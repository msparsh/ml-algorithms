{
 "cells": [
  {
   "cell_type": "markdown",
   "id": "40d24fbd",
   "metadata": {},
   "source": [
    "# Learning Implementation for Batch Gradient Descent"
   ]
  },
  {
   "cell_type": "code",
   "execution_count": 3,
   "id": "3809c663",
   "metadata": {},
   "outputs": [],
   "source": [
    "import numpy as np\n",
    "from sklearn.metrics import mean_squared_error\n",
    "import random\n",
    "random.seed = 1000"
   ]
  },
  {
   "cell_type": "markdown",
   "id": "c84b241d",
   "metadata": {},
   "source": [
    "Issues Recognized:\n",
    " * Bias Changes Slowly: large bias -> Slow convergence\n",
    " * Compares well with sklearn with small no. of features\n",
    " * More than 6 features -> Slow convergence\n",
    " * large values in X -> more error in y"
   ]
  },
  {
   "cell_type": "markdown",
   "id": "7eb16050",
   "metadata": {},
   "source": [
    "### Batch Gradient Descent\n",
    "\n",
    "X: (m, n), \\\n",
    "y: (m), \\\n",
    "parameters: w,b: (m), (1)"
   ]
  },
  {
   "cell_type": "code",
   "execution_count": 4,
   "id": "0e9ba64b",
   "metadata": {},
   "outputs": [],
   "source": [
    "def single_update(X, y, y_, W, b, alpha):\n",
    "    m, n = X.shape\n",
    "    dJ_dW = np.random.rand(n)\n",
    "    dJ_db = np.random.rand()\n",
    "    for i in range(m):\n",
    "        for j in range(n):\n",
    "            dJ_dW[j] += (y_[i] - y[i])*X[i][j] \n",
    "        dJ_db += (y_[i] - y[i])\n",
    "\n",
    "    W -= (alpha * dJ_dW)/m\n",
    "    b -= (alpha * dJ_db)/m\n",
    "    return (W,b)"
   ]
  },
  {
   "cell_type": "code",
   "execution_count": 48,
   "id": "0cd4fa7f",
   "metadata": {},
   "outputs": [],
   "source": [
    "def GD_LinearRegression(X, y, iterations = 100, alpha = 0.0001):\n",
    "    m, n = X.shape\n",
    "    W = np.zeros(n)\n",
    "    b = 0\n",
    "    k = 0\n",
    "    while k<=iterations:\n",
    "        y_ = np.matmul(X, W) + b\n",
    "        if k % (iterations//10) == 0:\n",
    "            print(f\"Interation {k} Weights:{W}\",f\"Bias: {b}\", \"Cost: \", mean_squared_error(y, y_))\n",
    "        k+=1\n",
    "        W,b = single_update(X,y,y_, W, b,alpha)\n",
    "    return W,b"
   ]
  },
  {
   "cell_type": "markdown",
   "id": "a2d04444",
   "metadata": {},
   "source": [
    "### Running Tests"
   ]
  },
  {
   "cell_type": "code",
   "execution_count": 59,
   "id": "76b6fdd0",
   "metadata": {},
   "outputs": [],
   "source": [
    "X = np.array([[x] for x in np.arange(500,1000)])\n",
    "y = np.array([x*100  for x in np.arange(500,1000)])"
   ]
  },
  {
   "cell_type": "code",
   "execution_count": 62,
   "id": "d0716dd1",
   "metadata": {},
   "outputs": [
    {
     "name": "stdout",
     "output_type": "stream",
     "text": [
      "Interation 0 Weights:[0.] Bias: 0 Cost:  5825835000.0\n",
      "Interation 50 Weights:[99.99983115] Bias: 0.12865073726804216 Cost:  0.0005983637336139651\n",
      "Interation 100 Weights:[99.99983449] Bias: 0.12865060232834455 Cost:  0.0005918647778524105\n",
      "Interation 150 Weights:[99.99983449] Bias: 0.12865046123373008 Cost:  0.0005918634782688594\n",
      "Interation 200 Weights:[99.99983449] Bias: 0.1286503234262163 Cost:  0.0005918622101841862\n",
      "Interation 250 Weights:[99.99983449] Bias: 0.12865018616422247 Cost:  0.0005918609457392604\n",
      "Interation 300 Weights:[99.99983449] Bias: 0.1286500463694985 Cost:  0.0005918596600490625\n",
      "Interation 350 Weights:[99.99983449] Bias: 0.12864990506544974 Cost:  0.0005918583610758914\n",
      "Interation 400 Weights:[99.99983449] Bias: 0.12864976559414015 Cost:  0.0005918570773541645\n",
      "Interation 450 Weights:[99.99983449] Bias: 0.12864962729768437 Cost:  0.0005918558073410754\n",
      "Interation 500 Weights:[99.99983449] Bias: 0.1286494879090824 Cost:  0.0005918545232997878\n"
     ]
    }
   ],
   "source": [
    "W,b =  GD_LinearRegression(X,y,500, 0.0000005)"
   ]
  },
  {
   "cell_type": "code",
   "execution_count": 63,
   "id": "5173d052",
   "metadata": {},
   "outputs": [],
   "source": [
    "pred = np.matmul(X,W) + b\n"
   ]
  },
  {
   "cell_type": "markdown",
   "id": "672b0eaf",
   "metadata": {},
   "source": [
    "### Comparison with LinearRegression from sklearn\n"
   ]
  },
  {
   "cell_type": "code",
   "execution_count": 64,
   "id": "c1f1fbaa",
   "metadata": {},
   "outputs": [],
   "source": [
    "from sklearn.linear_model import LinearRegression"
   ]
  },
  {
   "cell_type": "code",
   "execution_count": 66,
   "id": "05b1417f",
   "metadata": {},
   "outputs": [
    {
     "data": {
      "text/plain": [
       "(7.220955875342911e-23, 0.0005918544976746625)"
      ]
     },
     "execution_count": 66,
     "metadata": {},
     "output_type": "execute_result"
    }
   ],
   "source": [
    "m = LinearRegression().fit(X,y)\n",
    "pred_m = m.predict(X)\n",
    "mean_squared_error(y, pred_m),mean_squared_error(y,pred)"
   ]
  },
  {
   "cell_type": "code",
   "execution_count": null,
   "id": "f33b8708",
   "metadata": {},
   "outputs": [],
   "source": []
  }
 ],
 "metadata": {
  "kernelspec": {
   "display_name": "Python 3 (ipykernel)",
   "language": "python",
   "name": "python3"
  },
  "language_info": {
   "codemirror_mode": {
    "name": "ipython",
    "version": 3
   },
   "file_extension": ".py",
   "mimetype": "text/x-python",
   "name": "python",
   "nbconvert_exporter": "python",
   "pygments_lexer": "ipython3",
   "version": "3.10.12"
  }
 },
 "nbformat": 4,
 "nbformat_minor": 5
}
