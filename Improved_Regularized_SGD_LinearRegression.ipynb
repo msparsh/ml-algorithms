{
 "cells": [
  {
   "cell_type": "markdown",
   "id": "e55fa8fd",
   "metadata": {},
   "source": [
    "# Improved Implementation for Stochastic Linear Regression\n",
    "with regularization.\\\n",
    "with efficiency improvements.\n",
    "\n",
    "Todo:\n",
    "* Stopping Condition"
   ]
  },
  {
   "cell_type": "code",
   "execution_count": 1,
   "id": "e22de211",
   "metadata": {},
   "outputs": [],
   "source": [
    "import numpy as np"
   ]
  },
  {
   "cell_type": "markdown",
   "id": "8195ef49",
   "metadata": {},
   "source": [
    "## Implementation"
   ]
  },
  {
   "cell_type": "code",
   "execution_count": 2,
   "id": "ec60f9f2",
   "metadata": {},
   "outputs": [],
   "source": [
    "class LinearRegression:\n",
    "    \"\"\"Linear regression model with L2 regularization.\"\"\"\n",
    "    \n",
    "    DEFAULT_EPOCHS = 1000\n",
    "    DEFAULT_ALPHA = 0.01\n",
    "    DEFAULT_LAMBDA = 0.0001\n",
    "\n",
    "    def compute_cost(self, y, y_, Lambda, W, m):\n",
    "        \"\"\"Compute cost function with L2 regularization.\"\"\"\n",
    "        \n",
    "        return np.mean((y-y_)**2) + ((np.sum(W**2)) * Lambda/(2*m))\n",
    "    \n",
    "    def log_current(self, k, num_out, output_limit, y, y_, Lambda, W, m, b):\n",
    "        \"\"\"Log current training information.\"\"\"\n",
    "        \n",
    "        print(f\"({k//num_out}/{output_limit}) > Epoch: {k}\",\n",
    "              f\"Cost: {self.compute_cost(y,y_,Lambda,W,m):.8f}\",\n",
    "              f\"W: {W}\",\n",
    "              f\"b: {b:.4f}\")\n",
    "    \n",
    "    def single_step(self, Xi, yi, m, W, b, alpha, Lambda):\n",
    "        \"\"\"Perform a single step of gradient descent.\"\"\"\n",
    "        \n",
    "        y_i = np.dot(Xi, W) + b \n",
    "        res = yi - y_i\n",
    "        \n",
    "        dJ_dW = np.dot(res, Xi)  - Lambda * W\n",
    "        dJ_db = res.mean()\n",
    "\n",
    "        W += dJ_dW * alpha / m\n",
    "        b += dJ_db * alpha\n",
    "\n",
    "        return W,b\n",
    "    \n",
    "    def fit(self, X, y,\n",
    "            epochs = DEFAULT_EPOCHS,\n",
    "            alpha = DEFAULT_ALPHA,\n",
    "            Lambda=DEFAULT_LAMBDA,\n",
    "            output_limit=10):\n",
    "        \"\"\"Fit the linear regression model to the given data.\n",
    "        \n",
    "        Parameter\n",
    "        ---------\n",
    "        epochs: int, default=1000\n",
    "            Number of complete iterations through X\n",
    "\n",
    "        alpha : float, default=0.01\n",
    "            Constant Learning Rate\n",
    "\n",
    "        Lambda : float, default=0.0001\n",
    "            Rate for l2 Regularization\n",
    "\n",
    "        output_limit : int, default=10\n",
    "            Number of iterations to show\n",
    "\n",
    "        Returns\n",
    "        -------\n",
    "        W : numpy.ndarray\n",
    "            The optimized weights.\n",
    "        b : numpy.longdouble\n",
    "            The optimized itercept.\n",
    "        \"\"\"\n",
    " \n",
    "        if output_limit<=0:\n",
    "            raise ValueError(\"Output limit should be greater than 0\")\n",
    "        \n",
    "        num_out = epochs//output_limit\n",
    "        np.set_printoptions(precision=4)\n",
    "        \n",
    "        m,n = X.shape\n",
    "        \n",
    "        W = np.random.rand(n)\n",
    "        b = np.random.rand()\n",
    "        y_ = np.dot(X,W) + b\n",
    "        self.log_current(0, num_out, output_limit, y, y_, Lambda, W, m, b) # Initial Out\n",
    "\n",
    "        try:\n",
    "            for k in range(1, epochs+1):\n",
    "                for i in range(m):\n",
    "                    W,b = self.single_step(X[i], y[i], m, W, b, alpha, Lambda)\n",
    "\n",
    "                if k % num_out == 0:\n",
    "                    y_ = np.dot(X,W) + b\n",
    "                    self.log_current(k, num_out, output_limit, y, y_, Lambda, W, m, b)\n",
    "                    \n",
    "        except KeyboardInterrupt:\n",
    "            print(f\"\\nTerminated! Returned: Weights: {W}, Bias: {b}\")\n",
    "            return (W,b)\n",
    "        return (W,b)"
   ]
  },
  {
   "cell_type": "markdown",
   "id": "5ef81f4c",
   "metadata": {},
   "source": [
    "## Usage"
   ]
  },
  {
   "cell_type": "code",
   "execution_count": 3,
   "id": "dce968dc",
   "metadata": {},
   "outputs": [
    {
     "name": "stdout",
     "output_type": "stream",
     "text": [
      "(0/10) > Epoch: 0 Cost: 3324.16767121 W: [0.4851 0.739 ] b: 0.2387\n",
      "(1/10) > Epoch: 50 Cost: 4.84417005 W: [2.2201 4.2044] b: 55.2723\n",
      "(2/10) > Epoch: 100 Cost: 2.17150968 W: [3.3444 6.5109] b: 53.5233\n",
      "(3/10) > Epoch: 150 Cost: 0.97455120 W: [4.0878 8.0577] b: 52.3559\n",
      "(4/10) > Epoch: 200 Cost: 0.43807893 W: [4.5795 9.095 ] b: 51.5767\n",
      "(5/10) > Epoch: 250 Cost: 0.19738362 W: [4.9049 9.7906] b: 51.0565\n",
      "(6/10) > Epoch: 300 Cost: 0.08923545 W: [ 5.1203 10.257 ] b: 50.7092\n",
      "(7/10) > Epoch: 350 Cost: 0.04054228 W: [ 5.2629 10.5697] b: 50.4772\n",
      "(8/10) > Epoch: 400 Cost: 0.01855324 W: [ 5.3574 10.7794] b: 50.3223\n",
      "(9/10) > Epoch: 450 Cost: 0.00858077 W: [ 5.42 10.92] b: 50.2189\n",
      "(10/10) > Epoch: 500 Cost: 0.00403012 W: [ 5.4615 11.0143] b: 50.1497\n"
     ]
    },
    {
     "data": {
      "text/plain": [
       "(array([ 5.4615, 11.0143]), 50.14974719490584)"
      ]
     },
     "execution_count": 3,
     "metadata": {},
     "output_type": "execute_result"
    }
   ],
   "source": [
    "m = LinearRegression()\n",
    "\n",
    "X = np.random.rand(1000,2)\n",
    "y = 5.55*X[:,0] + 11.22*X[:,1] + 50\n",
    "m.fit(X, y ,epochs= 500, alpha = 0.1, output_limit=10)"
   ]
  }
 ],
 "metadata": {
  "kernelspec": {
   "display_name": "Python 3 (ipykernel)",
   "language": "python",
   "name": "python3"
  },
  "language_info": {
   "codemirror_mode": {
    "name": "ipython",
    "version": 3
   },
   "file_extension": ".py",
   "mimetype": "text/x-python",
   "name": "python",
   "nbconvert_exporter": "python",
   "pygments_lexer": "ipython3",
   "version": "3.10.12"
  }
 },
 "nbformat": 4,
 "nbformat_minor": 5
}
