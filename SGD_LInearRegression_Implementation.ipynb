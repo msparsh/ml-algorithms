{
 "cells": [
  {
   "cell_type": "markdown",
   "id": "e55fa8fd",
   "metadata": {},
   "source": [
    "# Learning Implementation for Stochastic Linear Regression"
   ]
  },
  {
   "cell_type": "code",
   "execution_count": 3,
   "id": "e22de211",
   "metadata": {},
   "outputs": [],
   "source": [
    "import numpy as np\n",
    "from sklearn.metrics import mean_squared_error\n",
    "np.random.seed = 100"
   ]
  },
  {
   "cell_type": "markdown",
   "id": "b171ba73",
   "metadata": {},
   "source": [
    "# Observations:\n",
    "* Reacts better to large bias than BatchGD\n",
    "* Faster maybe\n",
    "* If features have noncompareable sizes then bigger feature gets more weight\n"
   ]
  },
  {
   "cell_type": "markdown",
   "id": "8195ef49",
   "metadata": {},
   "source": [
    "## Implementation"
   ]
  },
  {
   "cell_type": "code",
   "execution_count": 4,
   "id": "8150986c",
   "metadata": {},
   "outputs": [],
   "source": [
    "def single_update(i,X,y,y_,W,b,alpha):\n",
    "    m,n = X.shape\n",
    "    dJ_dW = np.zeros(n)\n",
    "    for j in range(n):\n",
    "        dJ_dW[j] += (y[i]-y_[i])*X[i][j]\n",
    "    dJ_db = y[i]-y_[i]\n",
    "    \n",
    "    W += dJ_dW*alpha\n",
    "    b += dJ_db\n",
    "    return W,b"
   ]
  },
  {
   "cell_type": "code",
   "execution_count": 5,
   "id": "1820eab8",
   "metadata": {},
   "outputs": [],
   "source": [
    "def SGD_LinearRegression(X,y, iterations = 100,alpha = 0.000001):\n",
    "    \"\"\"Returns W,b after updating iterations times\"\"\"\n",
    "    m,n = X.shape\n",
    "    W = np.random.rand(n)\n",
    "    b = np.random.rand()\n",
    "    y_ = np.matmul(X,W) +b\n",
    "    \n",
    "    for k in range(iterations+1):\n",
    "        if k % (iterations//10) == 0:\n",
    "            print(f\"Iteration: {k}\", f\"Cost: {mean_squared_error(y,y_)}\", f\"Weights: {W}\",f\"Bias: {b}\")\n",
    "        #print(f\"Iteration: {k}\", f\"Cost: {mean_squared_error(y,y_)}\", f\"Weights: {W}\",f\"Bias: {b}\")\n",
    "        for i in range(m):\n",
    "            W,b = single_update(i,X,y,y_,W,b,alpha)\n",
    "            y_ = np.matmul(X,W) + b\n",
    "    return W,b"
   ]
  },
  {
   "cell_type": "markdown",
   "id": "45eba465",
   "metadata": {},
   "source": [
    "## Running Example"
   ]
  },
  {
   "cell_type": "code",
   "execution_count": 16,
   "id": "2a62bdc4",
   "metadata": {},
   "outputs": [
    {
     "name": "stdout",
     "output_type": "stream",
     "text": [
      "Iteration: 0 Cost: 22876655.111833267 Weights: [0.81093178 0.04498351] Bias: 0.24097826529552746\n",
      "Iteration: 1000 Cost: 33035.10923720487 Weights: [1.23477662 0.83672365] Bias: -1723.2813498785724\n",
      "Iteration: 2000 Cost: 6587.18273443608 Weights: [1.10499018 0.92693281] Bias: -1322.9624626649168\n",
      "Iteration: 3000 Cost: 1315.7342034898822 Weights: [1.0470745  0.96718759] Bias: -1144.324834486881\n",
      "Iteration: 4000 Cost: 263.84728486956584 Weights: [1.0212303  0.98515082] Bias: -1064.6098791840634\n",
      "Iteration: 5000 Cost: 53.40896873469048 Weights: [1.00969763 0.9931667 ] Bias: -1029.0380113545903\n",
      "Iteration: 6000 Cost: 11.068472851377178 Weights: [1.00455131 0.99674369] Bias: -1013.1644807721972\n",
      "Iteration: 7000 Cost: 2.442618214303247 Weights: [1.00225483 0.99833988] Bias: -1006.0811031333873\n",
      "Iteration: 8000 Cost: 0.6381035389591546 Weights: [1.00123005 0.99905217] Bias: -1002.9202285873693\n",
      "Iteration: 9000 Cost: 0.24001273604412093 Weights: [1.00077275 0.99937001] Bias: -1001.5097252364907\n",
      "Iteration: 10000 Cost: 0.14344514678277545 Weights: [1.00056869 0.99951185] Bias: -1000.8803045890523\n"
     ]
    }
   ],
   "source": [
    "X = np.array([[x*100, x**2] for x in np.arange(10,100)])\n",
    "y = np.array([ -1000 + x*100 + x**2 + np.random.rand() for x in np.arange(10,100)])\n",
    "W,b = SGD_LinearRegression(X,y,10000,0.0000000005)"
   ]
  },
  {
   "cell_type": "code",
   "execution_count": 17,
   "id": "963ae765",
   "metadata": {
    "scrolled": true
   },
   "outputs": [
    {
     "name": "stdout",
     "output_type": "stream",
     "text": [
      "[1.00056856 0.99951194] -1000.8798954879898\n"
     ]
    }
   ],
   "source": [
    "print(W,b)"
   ]
  },
  {
   "cell_type": "code",
   "execution_count": 18,
   "id": "5c2802e7",
   "metadata": {},
   "outputs": [
    {
     "data": {
      "text/plain": [
       "0.1433986513702834"
      ]
     },
     "execution_count": 18,
     "metadata": {},
     "output_type": "execute_result"
    }
   ],
   "source": [
    "pred = np.dot(X ,W) + b\n",
    "mean_squared_error(pred,y)"
   ]
  },
  {
   "cell_type": "code",
   "execution_count": null,
   "id": "11462c38",
   "metadata": {},
   "outputs": [],
   "source": []
  }
 ],
 "metadata": {
  "kernelspec": {
   "display_name": "Python 3 (ipykernel)",
   "language": "python",
   "name": "python3"
  },
  "language_info": {
   "codemirror_mode": {
    "name": "ipython",
    "version": 3
   },
   "file_extension": ".py",
   "mimetype": "text/x-python",
   "name": "python",
   "nbconvert_exporter": "python",
   "pygments_lexer": "ipython3",
   "version": "3.10.12"
  }
 },
 "nbformat": 4,
 "nbformat_minor": 5
}
