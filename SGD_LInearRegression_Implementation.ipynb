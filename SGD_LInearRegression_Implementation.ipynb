{
 "cells": [
  {
   "cell_type": "markdown",
   "id": "e55fa8fd",
   "metadata": {},
   "source": [
    "# Learning Implementation for Stochastic Linear Regression"
   ]
  },
  {
   "cell_type": "code",
   "execution_count": 1,
   "id": "e22de211",
   "metadata": {},
   "outputs": [
    {
     "name": "stderr",
     "output_type": "stream",
     "text": [
      "/usr/lib/python3/dist-packages/scipy/__init__.py:146: UserWarning: A NumPy version >=1.17.3 and <1.25.0 is required for this version of SciPy (detected version 1.26.3\n",
      "  warnings.warn(f\"A NumPy version >={np_minversion} and <{np_maxversion}\"\n"
     ]
    }
   ],
   "source": [
    "import numpy as np\n",
    "from sklearn.metrics import mean_squared_error\n",
    "np.random.seed = 100"
   ]
  },
  {
   "cell_type": "markdown",
   "id": "b171ba73",
   "metadata": {},
   "source": [
    "# Observations:\n",
    "* Reacts better to large bias than BatchGD\n",
    "* Faster maybe\n",
    "* If features have noncompareable sizes then bigger feature gets more weight\n"
   ]
  },
  {
   "cell_type": "markdown",
   "id": "8195ef49",
   "metadata": {},
   "source": [
    "## Implementation"
   ]
  },
  {
   "cell_type": "code",
   "execution_count": 2,
   "id": "8150986c",
   "metadata": {},
   "outputs": [],
   "source": [
    "def single_update(i,X,y,y_,W,b,alpha):\n",
    "    m,n = X.shape\n",
    "    dJ_dW = np.zeros(n)\n",
    "    for j in range(n):\n",
    "        dJ_dW[j] += (y[i]-y_[i])*X[i][j]\n",
    "    dJ_db = y[i]-y_[i]\n",
    "    \n",
    "    W += dJ_dW*alpha\n",
    "    b += dJ_db\n",
    "    return W,b"
   ]
  },
  {
   "cell_type": "code",
   "execution_count": 3,
   "id": "1820eab8",
   "metadata": {},
   "outputs": [],
   "source": [
    "def SGD_LinearRegression(X,y, iterations = 100,alpha = 0.000001):\n",
    "    \"\"\"Returns W,b after updating iterations times\"\"\"\n",
    "    m,n = X.shape\n",
    "    W = np.random.rand(n)\n",
    "    b = np.random.rand()\n",
    "    for k in range(iterations+1):\n",
    "        for i in range(m):\n",
    "            y_ = np.matmul(X,W) +b\n",
    "            W,b = single_update(i,X,y,y_,W,b,alpha)\n",
    "        if k % (iterations//10) == 0:\n",
    "            print(f\"Iteration: {k}\", f\"Cost: {mean_squared_error(y,y_)}\", f\"Weights: {W}\",f\"Bias: {b}\")\n",
    "    return W,b"
   ]
  },
  {
   "cell_type": "markdown",
   "id": "45eba465",
   "metadata": {},
   "source": [
    "## Running Example"
   ]
  },
  {
   "cell_type": "code",
   "execution_count": 7,
   "id": "2a62bdc4",
   "metadata": {},
   "outputs": [
    {
     "name": "stdout",
     "output_type": "stream",
     "text": [
      "Iteration: 0 Cost: 54746.8671238597 Weights: [1.01029392 0.11090321] Bias: -668.5880762114386\n",
      "Iteration: 500 Cost: 59.15203384260826 Weights: [1.05022363 0.80002078] Bias: -1020.7730808280426\n",
      "Iteration: 1000 Cost: 3.1887249152919632 Weights: [1.01166089 0.95356894] Bias: -1004.823081381382\n",
      "Iteration: 1500 Cost: 0.17189546369427822 Weights: [1.00270742 0.98921967] Bias: -1001.1198201937405\n",
      "Iteration: 2000 Cost: 0.009266427674049876 Weights: [1.00062861 0.99749703] Bias: -1000.2599991793863\n",
      "Iteration: 2500 Cost: 0.0004995258209434301 Weights: [1.00014595 0.99941886] Bias: -1000.0603664186119\n",
      "Iteration: 3000 Cost: 2.6928074266078835e-05 Weights: [1.00003389 0.99986507] Bias: -1000.0140159077014\n",
      "Iteration: 3500 Cost: 1.4514741513497187e-06 Weights: [1.00000787 0.99996867] Bias: -1000.0032540915367\n",
      "Iteration: 4000 Cost: 7.826859507445936e-08 Weights: [1.00000183 0.99999273] Bias: -1000.000755578677\n",
      "Iteration: 4500 Cost: 4.217003842621957e-09 Weights: [1.00000042 0.99999831] Bias: -1000.0001756568981\n",
      "Iteration: 5000 Cost: 2.2684578226248323e-10 Weights: [1.0000001  0.99999961] Bias: -1000.000040740927\n"
     ]
    }
   ],
   "source": [
    "X = np.array([[x*100, x**2] for x in np.arange(1,20,0.5)])\n",
    "y = np.array([ -1000 + x*100 + x**2 for x in np.arange(1,20,0.5)])\n",
    "W,b = SGD_LinearRegression(X,y,5000,0.0000009)"
   ]
  },
  {
   "cell_type": "code",
   "execution_count": 8,
   "id": "963ae765",
   "metadata": {
    "scrolled": true
   },
   "outputs": [
    {
     "name": "stdout",
     "output_type": "stream",
     "text": [
      "[1.0000001  0.99999961] -1000.000040740927\n"
     ]
    }
   ],
   "source": [
    "print(W,b)"
   ]
  },
  {
   "cell_type": "code",
   "execution_count": 12,
   "id": "5c2802e7",
   "metadata": {},
   "outputs": [
    {
     "data": {
      "text/plain": [
       "(array([-899.00003128, -847.75002684, -796.0000226 , -743.75001855,\n",
       "        -691.0000147 , -637.75001105, -584.00000759, -529.75000433,\n",
       "        -475.00000126, -419.74999839, -363.99999572, -307.74999324,\n",
       "        -250.99999096, -193.74998887, -135.99998698,  -77.74998529,\n",
       "         -18.99998379,   40.25001751,  100.00001862,  160.25001953,\n",
       "         221.00002024,  282.25002076,  344.00002108,  406.2500212 ,\n",
       "         469.00002113,  532.25002087,  596.0000204 ,  660.25001975,\n",
       "         725.00001889,  790.25001784,  856.00001659,  922.25001515,\n",
       "         989.00001351, 1056.25001168, 1124.00000964, 1192.25000742,\n",
       "        1261.00000499, 1330.25000238]),\n",
       " array([-899.  , -847.75, -796.  , -743.75, -691.  , -637.75, -584.  ,\n",
       "        -529.75, -475.  , -419.75, -364.  , -307.75, -251.  , -193.75,\n",
       "        -136.  ,  -77.75,  -19.  ,   40.25,  100.  ,  160.25,  221.  ,\n",
       "         282.25,  344.  ,  406.25,  469.  ,  532.25,  596.  ,  660.25,\n",
       "         725.  ,  790.25,  856.  ,  922.25,  989.  , 1056.25, 1124.  ,\n",
       "        1192.25, 1261.  , 1330.25]))"
      ]
     },
     "execution_count": 12,
     "metadata": {},
     "output_type": "execute_result"
    }
   ],
   "source": [
    "pred = np.dot(X ,W) + b\n",
    "pred,y"
   ]
  },
  {
   "cell_type": "code",
   "execution_count": null,
   "id": "11462c38",
   "metadata": {},
   "outputs": [],
   "source": []
  }
 ],
 "metadata": {
  "kernelspec": {
   "display_name": "Python 3 (ipykernel)",
   "language": "python",
   "name": "python3"
  },
  "language_info": {
   "codemirror_mode": {
    "name": "ipython",
    "version": 3
   },
   "file_extension": ".py",
   "mimetype": "text/x-python",
   "name": "python",
   "nbconvert_exporter": "python",
   "pygments_lexer": "ipython3",
   "version": "3.10.12"
  }
 },
 "nbformat": 4,
 "nbformat_minor": 5
}
