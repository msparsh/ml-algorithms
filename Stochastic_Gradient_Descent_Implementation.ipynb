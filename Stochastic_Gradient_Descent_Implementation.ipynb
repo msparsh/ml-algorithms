{
 "cells": [
  {
   "cell_type": "markdown",
   "id": "e55fa8fd",
   "metadata": {},
   "source": [
    "# Learning Implementation for Stochastic Linear Regression"
   ]
  },
  {
   "cell_type": "code",
   "execution_count": 2,
   "id": "e22de211",
   "metadata": {},
   "outputs": [],
   "source": [
    "import numpy as np\n",
    "from sklearn.metrics import mean_squared_error\n",
    "np.random.seed = 100"
   ]
  },
  {
   "cell_type": "markdown",
   "id": "b171ba73",
   "metadata": {},
   "source": [
    "# Observations:\n",
    "* Reacts better to large bias than BatchGD\n",
    "* Faster maybe\n",
    "* If features have noncompareable sizes then bigger feature gets more weight\n"
   ]
  },
  {
   "cell_type": "markdown",
   "id": "8195ef49",
   "metadata": {},
   "source": [
    "## Implementation"
   ]
  },
  {
   "cell_type": "code",
   "execution_count": 4,
   "id": "8150986c",
   "metadata": {},
   "outputs": [],
   "source": [
    "def single_update(i,X,y,y_,W,b,alpha):\n",
    "    m,n = X.shape\n",
    "    dJ_dW = np.zeros(n)\n",
    "    for j in range(n):\n",
    "        dJ_dW[j] += (y[i]-y_[i])*X[i][j]\n",
    "    dJ_db = y[i]-y_[i]\n",
    "    \n",
    "    W += dJ_dW*alpha\n",
    "    b += dJ_db\n",
    "    return W,b"
   ]
  },
  {
   "cell_type": "code",
   "execution_count": 161,
   "id": "1820eab8",
   "metadata": {},
   "outputs": [],
   "source": [
    "def SGD_LinearRegression(X,y, iterations = 100,alpha = 0.000001):\n",
    "    m,n = X.shape\n",
    "    W = np.random.rand(n)\n",
    "    b = np.random.rand()\n",
    "    for k in range(iterations+1):\n",
    "        for i in range(m):\n",
    "            y_ = np.matmul(X,W) +b\n",
    "            W,b = single_update(i,X,y,y_,W,b,alpha)\n",
    "        if k % (iterations//10) == 0:\n",
    "            print(f\"Iteration: {k}\", f\"Cost: {mean_squared_error(y,y_)}\", f\"Weights: {W}\",f\"Bias: {b}\")\n",
    "    return W,b"
   ]
  },
  {
   "cell_type": "markdown",
   "id": "45eba465",
   "metadata": {},
   "source": [
    "## Running Example"
   ]
  },
  {
   "cell_type": "code",
   "execution_count": 170,
   "id": "2a62bdc4",
   "metadata": {},
   "outputs": [
    {
     "name": "stdout",
     "output_type": "stream",
     "text": [
      "Iteration: 0 Cost: 24982249.515434932 Weights: [5.29059142 1.4561522 ] Bias: 8189.031741336165\n",
      "Iteration: 500 Cost: 88.831629850451 Weights: [9.93845298 1.24506643] Bias: -974.5434295186787\n",
      "Iteration: 1000 Cost: 4.788671524418852 Weights: [9.98571005 1.05689938] Bias: -994.0895079580441\n",
      "Iteration: 1500 Cost: 0.2581442862297914 Weights: [9.99668217 1.01321086] Bias: -998.6277047779186\n",
      "Iteration: 2000 Cost: 0.01391585726946461 Weights: [9.99922967 1.00306729] Bias: -999.6813803461482\n",
      "Iteration: 2500 Cost: 0.0007501488696834976 Weights: [9.99982114 1.00071216] Bias: -999.9260245329642\n",
      "Iteration: 3000 Cost: 4.0442059864130976e-05 Weights: [9.99995847 1.00016535] Bias: -999.9828235259447\n",
      "Iteration: 3500 Cost: 2.1802036387655926e-06 Weights: [9.99999036 1.00003839] Bias: -999.9960112261178\n",
      "Iteration: 4000 Cost: 1.1742093175317786e-07 Weights: [9.99999776 1.00000891] Bias: -999.9990749326644\n",
      "Iteration: 4500 Cost: 6.359952821398801e-09 Weights: [9.99999948 1.00000207] Bias: -999.9997856871196\n",
      "Iteration: 5000 Cost: 3.417797425319149e-10 Weights: [9.99999988 1.00000048] Bias: -999.999951083355\n"
     ]
    }
   ],
   "source": [
    "X = np.array([[x*100, x**2] for x in np.arange(1,20,0.5)])\n",
    "y = np.array([ -1000 + 10*x*100 + x**2 for x in np.arange(1,20,0.5)])\n",
    "W,b = SGD_LinearRegression(X,y,5000,0.0000009)"
   ]
  },
  {
   "cell_type": "code",
   "execution_count": 163,
   "id": "963ae765",
   "metadata": {
    "scrolled": true
   },
   "outputs": [
    {
     "name": "stdout",
     "output_type": "stream",
     "text": [
      "[ 9.99999876 -9.99999504] 0.0005154947659775644\n"
     ]
    }
   ],
   "source": [
    "print(W,b)"
   ]
  },
  {
   "cell_type": "code",
   "execution_count": 160,
   "id": "5c2802e7",
   "metadata": {},
   "outputs": [
    {
     "data": {
      "text/plain": [
       "(array([  990.0004122 ,  1477.50035405,  1960.00029846,  2437.50024545,\n",
       "         2910.00019501,  3377.50014714,  3840.00010185,  4297.50005913,\n",
       "         4750.00001899,  5197.49998142,  5639.99994642,  6077.499914  ,\n",
       "         6509.99988415,  6937.49985687,  7359.99983217,  7777.49981004,\n",
       "         8189.99979048,  8597.4997735 ,  8999.99975909,  9397.49974726,\n",
       "         9789.999738  , 10177.49973131, 10559.9997272 , 10937.49972566,\n",
       "        11309.99972669, 11677.4997303 , 12039.99973648, 12397.49974523,\n",
       "        12749.99975656, 13097.49977046, 13439.99978694, 13777.49980599,\n",
       "        14109.99982761, 14437.49985181, 14759.99987858, 15077.49990792,\n",
       "        15389.99993984, 15697.49997433]),\n",
       " array([  990. ,  1477.5,  1960. ,  2437.5,  2910. ,  3377.5,  3840. ,\n",
       "         4297.5,  4750. ,  5197.5,  5640. ,  6077.5,  6510. ,  6937.5,\n",
       "         7360. ,  7777.5,  8190. ,  8597.5,  9000. ,  9397.5,  9790. ,\n",
       "        10177.5, 10560. , 10937.5, 11310. , 11677.5, 12040. , 12397.5,\n",
       "        12750. , 13097.5, 13440. , 13777.5, 14110. , 14437.5, 14760. ,\n",
       "        15077.5, 15390. , 15697.5]))"
      ]
     },
     "execution_count": 160,
     "metadata": {},
     "output_type": "execute_result"
    }
   ],
   "source": [
    "pred = np.dot(X ,W) + b\n",
    "pred,y"
   ]
  },
  {
   "cell_type": "code",
   "execution_count": null,
   "id": "1daa8062",
   "metadata": {},
   "outputs": [],
   "source": []
  }
 ],
 "metadata": {
  "kernelspec": {
   "display_name": "Python 3 (ipykernel)",
   "language": "python",
   "name": "python3"
  },
  "language_info": {
   "codemirror_mode": {
    "name": "ipython",
    "version": 3
   },
   "file_extension": ".py",
   "mimetype": "text/x-python",
   "name": "python",
   "nbconvert_exporter": "python",
   "pygments_lexer": "ipython3",
   "version": "3.10.12"
  }
 },
 "nbformat": 4,
 "nbformat_minor": 5
}
