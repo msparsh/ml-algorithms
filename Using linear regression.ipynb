{
 "cells": [
  {
   "cell_type": "markdown",
   "id": "e55fa8fd",
   "metadata": {},
   "source": [
    "# Improved Implementation for Stochastic Linear Regression\n",
    "with regularization.\\\n",
    "with efficiency improvements.\\\n",
    "Recommended to check cost after convergence."
   ]
  },
  {
   "cell_type": "code",
   "execution_count": 12,
   "id": "e22de211",
   "metadata": {},
   "outputs": [],
   "source": [
    "import numpy as np"
   ]
  },
  {
   "cell_type": "code",
   "execution_count": 13,
   "id": "a92e3076-b191-47e5-84bc-04a9dd1f99fb",
   "metadata": {},
   "outputs": [],
   "source": [
    "from algorithms import LinearRegression"
   ]
  },
  {
   "cell_type": "code",
   "execution_count": 14,
   "id": "29716a0a-e8e2-4bf6-b1ec-6e8f78cf8751",
   "metadata": {},
   "outputs": [
    {
     "name": "stdout",
     "output_type": "stream",
     "text": [
      "Help on function fit in module algorithms.linear_regression:\n",
      "\n",
      "fit(self, X, y, epochs=100, alpha=0.01, Lambda=0.0001, error_threshold=0.001, validation_size=0.2, output_limit=10)\n",
      "    Fit the linear regression model to the given data.\n",
      "\n",
      "    Parameter\n",
      "    ---------\n",
      "    epochs: int, default=1000\n",
      "        Number of complete iterations through X\n",
      "\n",
      "    alpha : float, default=0.01\n",
      "        Constant Learning Rate\n",
      "\n",
      "    Lambda : float, default=0.0001\n",
      "        Rate for l2 Regularization\n",
      "\n",
      "    error_threshold: float, default=0.001\n",
      "        Threshold for vCost convergence\n",
      "\n",
      "    validation_size: float, default=0.2\n",
      "        Percent of data for validation, 0 <= vs < 1\n",
      "\n",
      "    output_limit : int, default=10\n",
      "        Number of iterations to show\n",
      "\n",
      "    Returns\n",
      "    -------\n",
      "    W : numpy.ndarray\n",
      "        The optimized weights.\n",
      "    b : numpy.longdouble\n",
      "        The optimized intercept.\n",
      "\n"
     ]
    }
   ],
   "source": [
    "help(LinearRegression.fit)"
   ]
  },
  {
   "cell_type": "markdown",
   "id": "5ef81f4c",
   "metadata": {},
   "source": [
    "## Usage"
   ]
  },
  {
   "cell_type": "code",
   "execution_count": 15,
   "id": "dce968dc",
   "metadata": {},
   "outputs": [
    {
     "name": "stdout",
     "output_type": "stream",
     "text": [
      "(0/10) > Epoch: 0 cost: 3362.63558098 vCost: 3346.84083299\n",
      "(1/10) > Epoch: 100 cost: 0.45472863 vCost: 0.53433772\n",
      "(2/10) > Epoch: 200 cost: 0.01875996 vCost: 0.02214043\n",
      "(3/10) > Epoch: 300 cost: 0.00095989 vCost: 0.00113396\n",
      "       * Epoch: 349 vCost: 0.00032910\n",
      "\n",
      "Epoch 349 > vCost Converged with threshold 1e-05. Or performance degraded.\n"
     ]
    },
    {
     "data": {
      "text/plain": [
       "(array([ 5.5329, 11.1661]), np.float64(50.03884796842025))"
      ]
     },
     "execution_count": 15,
     "metadata": {},
     "output_type": "execute_result"
    }
   ],
   "source": [
    "m = LinearRegression()\n",
    "X = np.random.rand(1000,2)\n",
    "y = 5.55*X[:,0] + 11.22*X[:,1] + 50\n",
    "m.fit(X, y ,epochs= 1000, alpha = 0.2, error_threshold = 0.00001, output_limit=10)"
   ]
  },
  {
   "cell_type": "markdown",
   "id": "df39efae",
   "metadata": {},
   "source": [
    " "
   ]
  },
  {
   "cell_type": "code",
   "execution_count": 16,
   "id": "3213784a",
   "metadata": {},
   "outputs": [],
   "source": [
    "from sklearn.datasets import make_regression"
   ]
  },
  {
   "cell_type": "code",
   "execution_count": 17,
   "id": "17f50fb5",
   "metadata": {},
   "outputs": [
    {
     "name": "stdout",
     "output_type": "stream",
     "text": [
      "(0/10) > Epoch: 0 cost: 63303.45145403 vCost: 67262.72783378\n",
      "(1/10) > Epoch: 10 cost: 6.26749439 vCost: 8.42540451\n",
      "(2/10) > Epoch: 20 cost: 0.00822800 vCost: 0.00970340\n",
      "       * Epoch: 28 vCost: 0.00480771\n",
      "\n",
      "Epoch 28 > vCost Converged with threshold 0.01. Or performance degraded.\n"
     ]
    },
    {
     "data": {
      "text/plain": [
       "(array([ 4.5537e+01,  2.6763e+01,  1.8026e+01,  5.4543e+01,  3.0484e+01,\n",
       "         6.5445e+01,  8.6173e+01,  7.6459e+01,  5.1189e+01, -7.1867e-04,\n",
       "         5.4358e+01,  7.7115e+01,  4.8077e+01,  4.6832e+00,  9.7940e+01,\n",
       "         7.2623e+01,  5.5266e+01,  5.4858e+01,  2.4516e+01,  5.9024e+01]),\n",
       " np.float64(0.001512764633114047))"
      ]
     },
     "execution_count": 17,
     "metadata": {},
     "output_type": "execute_result"
    }
   ],
   "source": [
    "X, y = make_regression(n_samples=1000,n_features=20, n_informative=19)\n",
    "m = LinearRegression()\n",
    "m.fit(X, y ,epochs= 100, alpha = 0.5, error_threshold = 0.01, output_limit=10)"
   ]
  },
  {
   "cell_type": "markdown",
   "id": "04ef96b0",
   "metadata": {},
   "source": [
    " "
   ]
  },
  {
   "cell_type": "code",
   "execution_count": 18,
   "id": "7070fa5d",
   "metadata": {},
   "outputs": [],
   "source": [
    "from sklearn.datasets import fetch_california_housing"
   ]
  },
  {
   "cell_type": "code",
   "execution_count": 19,
   "id": "48319847-5c99-43d6-b88e-68a0c6857b8f",
   "metadata": {},
   "outputs": [],
   "source": [
    "california = fetch_california_housing(as_frame=True)"
   ]
  },
  {
   "cell_type": "code",
   "execution_count": 20,
   "id": "488a8b79",
   "metadata": {},
   "outputs": [],
   "source": [
    "X,y = california[\"data\"], california[\"target\"]\n",
    "X,y = X.to_numpy(), y.to_numpy()"
   ]
  },
  {
   "cell_type": "code",
   "execution_count": 21,
   "id": "720a780d-6940-4bab-980b-04ac5b5f3263",
   "metadata": {},
   "outputs": [],
   "source": [
    "from sklearn.preprocessing import StandardScaler\n",
    "scaler = StandardScaler()\n",
    "X = scaler.fit_transform(X)"
   ]
  },
  {
   "cell_type": "code",
   "execution_count": 22,
   "id": "19fca112",
   "metadata": {},
   "outputs": [
    {
     "name": "stdout",
     "output_type": "stream",
     "text": [
      "(0/10) > Epoch: 0 cost: 3.47690903 vCost: 4.69563501\n",
      "(1/10) > Epoch: 2 cost: 1.94832178 vCost: 2.30065256\n",
      "(2/10) > Epoch: 4 cost: 1.93392478 vCost: 2.23136357\n",
      "(3/10) > Epoch: 6 cost: 1.93258689 vCost: 2.22690204\n",
      "(4/10) > Epoch: 8 cost: 1.93174274 vCost: 2.22623631\n",
      "(5/10) > Epoch: 10 cost: 1.93092931 vCost: 2.22581156\n",
      "(6/10) > Epoch: 12 cost: 1.93011845 vCost: 2.22540240\n",
      "(7/10) > Epoch: 14 cost: 1.92930836 vCost: 2.22499444\n",
      "(8/10) > Epoch: 16 cost: 1.92849894 vCost: 2.22458678\n",
      "       * Epoch: 16 vCost: 2.22458678\n",
      "\n",
      "Epoch 16 > vCost Converged with threshold 0.001. Or performance degraded.\n"
     ]
    },
    {
     "data": {
      "text/plain": [
       "(array([0.2235, 0.06  , 0.1813, 0.5564, 0.0276, 0.0043, 0.6579, 0.8448]),\n",
       " np.float64(1.8831042818732568))"
      ]
     },
     "execution_count": 22,
     "metadata": {},
     "output_type": "execute_result"
    }
   ],
   "source": [
    "m = LinearRegression()\n",
    "m.fit(X, y ,epochs= 25, alpha = 0.0001, error_threshold = 1/1000, validation_size=1/3 ,output_limit=10)"
   ]
  }
 ],
 "metadata": {
  "kernelspec": {
   "display_name": ".venv",
   "language": "python",
   "name": "python3"
  },
  "language_info": {
   "codemirror_mode": {
    "name": "ipython",
    "version": 3
   },
   "file_extension": ".py",
   "mimetype": "text/x-python",
   "name": "python",
   "nbconvert_exporter": "python",
   "pygments_lexer": "ipython3",
   "version": "3.12.3"
  }
 },
 "nbformat": 4,
 "nbformat_minor": 5
}
