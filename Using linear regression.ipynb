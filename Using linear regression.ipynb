{
 "cells": [
  {
   "cell_type": "markdown",
   "id": "e55fa8fd",
   "metadata": {},
   "source": [
    "# Improved Implementation for Stochastic Linear Regression\n",
    "with regularization.\\\n",
    "with efficiency improvements.\\\n",
    "Recommended to check cost after convergence."
   ]
  },
  {
   "cell_type": "code",
   "execution_count": 9,
   "id": "e22de211",
   "metadata": {},
   "outputs": [],
   "source": [
    "import numpy as np"
   ]
  },
  {
   "cell_type": "code",
   "execution_count": 10,
   "id": "a92e3076-b191-47e5-84bc-04a9dd1f99fb",
   "metadata": {},
   "outputs": [],
   "source": [
    "from algorithms import LinearRegression"
   ]
  },
  {
   "cell_type": "code",
   "execution_count": 11,
   "id": "29716a0a-e8e2-4bf6-b1ec-6e8f78cf8751",
   "metadata": {},
   "outputs": [
    {
     "name": "stdout",
     "output_type": "stream",
     "text": [
      "Help on function fit in module algorithms.linear_regression:\n",
      "\n",
      "fit(self, X, y, epochs=100, alpha=0.01, Lambda=0.0001, error_threshold=0.001, validation_size=0.2, output_limit=10)\n",
      "    Fit the linear regression model to the training data.\n",
      "    \n",
      "    Parameters\n",
      "    ----------\n",
      "    X : numpy.ndarray\n",
      "        Feature matrix for training.\n",
      "    y : numpy.ndarray\n",
      "        Target values.\n",
      "    epochs : int, optional\n",
      "        Number of iterations over the training set (default is DEFAULT_EPOCHS).\n",
      "    alpha : float, optional\n",
      "        Learning rate for gradient descent (default is DEFAULT_ALPHA).\n",
      "    Lambda : float, optional\n",
      "        Regularization rate for L2 regularization (default is DEFAULT_LAMBDA).\n",
      "    error_threshold : float, optional\n",
      "        Minimal decrease in cost to avoid early stopping (default is DEFAULT_ERROR_THRESHOLD).\n",
      "    validation_size : float, optional\n",
      "        Fraction of the data to reserve for validation (default is DEFAULT_VALIDATION_SIZE).\n",
      "    output_limit : int, optional\n",
      "        Frequency control for logging outputs (default is 10).\n",
      "    \n",
      "    Returns\n",
      "    -------\n",
      "    tuple\n",
      "        Optimized weights and bias (W, b).\n",
      "    \n",
      "    Raises\n",
      "    ------\n",
      "    ValueError\n",
      "        If output_limit is less than or equal to 0.\n",
      "\n"
     ]
    }
   ],
   "source": [
    "help(LinearRegression.fit)"
   ]
  },
  {
   "cell_type": "markdown",
   "id": "5ef81f4c",
   "metadata": {},
   "source": [
    "## Usage"
   ]
  },
  {
   "cell_type": "code",
   "execution_count": 12,
   "id": "dce968dc",
   "metadata": {},
   "outputs": [
    {
     "name": "stdout",
     "output_type": "stream",
     "text": [
      "(0/10) > Epoch: 0 cost: 3312.03793210 vCost: 3366.56602828\n",
      "(1/10) > Epoch: 100 cost: 0.50846949 vCost: 0.49097533\n",
      "(2/10) > Epoch: 200 cost: 0.02054858 vCost: 0.01991962\n",
      "(3/10) > Epoch: 300 cost: 0.00102947 vCost: 0.00100105\n",
      "       * Epoch: 344 vCost: 0.00032685\n",
      "\n",
      "Epoch 344 > Validation cost converged within threshold 1e-05 or performance degraded.\n"
     ]
    },
    {
     "data": {
      "text/plain": [
       "(array([ 5.5221, 11.17  ]), np.float64(50.04611032535716))"
      ]
     },
     "execution_count": 12,
     "metadata": {},
     "output_type": "execute_result"
    }
   ],
   "source": [
    "m = LinearRegression()\n",
    "X = np.random.rand(1000,2)\n",
    "y = 5.55*X[:,0] + 11.22*X[:,1] + 50\n",
    "m.fit(X, y ,epochs= 1000, alpha = 0.2, error_threshold = 0.00001, output_limit=10)"
   ]
  },
  {
   "cell_type": "code",
   "execution_count": 13,
   "id": "3213784a",
   "metadata": {},
   "outputs": [],
   "source": [
    "from sklearn.datasets import make_regression"
   ]
  },
  {
   "cell_type": "code",
   "execution_count": 14,
   "id": "17f50fb5",
   "metadata": {},
   "outputs": [
    {
     "name": "stdout",
     "output_type": "stream",
     "text": [
      "(0/10) > Epoch: 0 cost: 64064.48329779 vCost: 50283.80112023\n",
      "(1/10) > Epoch: 10 cost: 7.51719903 vCost: 7.01634490\n",
      "(2/10) > Epoch: 20 cost: 0.00807893 vCost: 0.00782682\n",
      "       * Epoch: 28 vCost: 0.00475715\n",
      "\n",
      "Epoch 28 > Validation cost converged within threshold 0.01 or performance degraded.\n"
     ]
    },
    {
     "data": {
      "text/plain": [
       "(array([1.6726e+01, 9.7937e+01, 7.1087e+01, 3.0723e-03, 2.3855e+01,\n",
       "        8.5078e+01, 9.4439e+01, 4.5841e+01, 1.3823e+01, 5.4478e+01,\n",
       "        9.4214e+01, 5.8567e+00, 1.4339e+01, 9.1789e+01, 7.2753e+01,\n",
       "        6.5580e+01, 3.3559e+01, 2.6675e+01, 2.1721e+01, 8.9356e+00]),\n",
       " np.float64(-0.0017604227477098985))"
      ]
     },
     "execution_count": 14,
     "metadata": {},
     "output_type": "execute_result"
    }
   ],
   "source": [
    "X, y = make_regression(n_samples=1000,n_features=20, n_informative=19)\n",
    "m = LinearRegression()\n",
    "m.fit(X, y ,epochs= 100, alpha = 0.5, error_threshold = 0.01, output_limit=10)"
   ]
  },
  {
   "cell_type": "markdown",
   "id": "04ef96b0",
   "metadata": {},
   "source": [
    " "
   ]
  },
  {
   "cell_type": "code",
   "execution_count": 15,
   "id": "7070fa5d",
   "metadata": {},
   "outputs": [],
   "source": [
    "from sklearn.datasets import fetch_california_housing"
   ]
  },
  {
   "cell_type": "code",
   "execution_count": 16,
   "id": "48319847-5c99-43d6-b88e-68a0c6857b8f",
   "metadata": {},
   "outputs": [],
   "source": [
    "california = fetch_california_housing(as_frame=True)"
   ]
  },
  {
   "cell_type": "code",
   "execution_count": 17,
   "id": "488a8b79",
   "metadata": {},
   "outputs": [],
   "source": [
    "X,y = california[\"data\"], california[\"target\"]\n",
    "X,y = X.to_numpy(), y.to_numpy()"
   ]
  },
  {
   "cell_type": "code",
   "execution_count": 18,
   "id": "720a780d-6940-4bab-980b-04ac5b5f3263",
   "metadata": {},
   "outputs": [],
   "source": [
    "from sklearn.preprocessing import StandardScaler\n",
    "scaler = StandardScaler()\n",
    "X = scaler.fit_transform(X)"
   ]
  },
  {
   "cell_type": "code",
   "execution_count": 19,
   "id": "19fca112",
   "metadata": {},
   "outputs": [
    {
     "name": "stdout",
     "output_type": "stream",
     "text": [
      "(0/10) > Epoch: 0 cost: 5.45977716 vCost: 6.08267042\n",
      "(1/10) > Epoch: 2 cost: 2.81220186 vCost: 2.53382627\n",
      "(2/10) > Epoch: 4 cost: 2.80991919 vCost: 2.47483540\n",
      "(3/10) > Epoch: 6 cost: 2.80903275 vCost: 2.47112168\n",
      "(4/10) > Epoch: 8 cost: 2.80755582 vCost: 2.47025420\n",
      "(5/10) > Epoch: 10 cost: 2.80603965 vCost: 2.46956599\n",
      "(6/10) > Epoch: 12 cost: 2.80452216 vCost: 2.46888966\n",
      "(7/10) > Epoch: 14 cost: 2.80300577 vCost: 2.46821454\n",
      "       * Epoch: 15 vCost: 2.46787718\n",
      "\n",
      "Epoch 15 > Validation cost converged within threshold 0.001 or performance degraded.\n"
     ]
    },
    {
     "data": {
      "text/plain": [
       "(array([0.2187, 0.8749, 0.8419, 0.3172, 0.0179, 0.5083, 0.0411, 0.0218]),\n",
       " np.float64(2.0260348337620897))"
      ]
     },
     "execution_count": 19,
     "metadata": {},
     "output_type": "execute_result"
    }
   ],
   "source": [
    "m = LinearRegression()\n",
    "m.fit(X, y ,epochs= 25, alpha = 0.0001, error_threshold = 1/1000, validation_size=1/3 ,output_limit=10)"
   ]
  }
 ],
 "metadata": {
  "kernelspec": {
   "display_name": ".venv",
   "language": "python",
   "name": "python3"
  },
  "language_info": {
   "codemirror_mode": {
    "name": "ipython",
    "version": 3
   },
   "file_extension": ".py",
   "mimetype": "text/x-python",
   "name": "python",
   "nbconvert_exporter": "python",
   "pygments_lexer": "ipython3",
   "version": "3.11.9"
  }
 },
 "nbformat": 4,
 "nbformat_minor": 5
}
