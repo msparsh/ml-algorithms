{
 "cells": [
  {
   "cell_type": "markdown",
   "id": "e55fa8fd",
   "metadata": {},
   "source": [
    "# Improved Implementation for Stochastic Linear Regression\n",
    "with regularization.\\\n",
    "with efficiency improvements.\\\n",
    "Recommended to check cost after convergence."
   ]
  },
  {
   "cell_type": "code",
   "execution_count": 1,
   "id": "e22de211",
   "metadata": {},
   "outputs": [],
   "source": [
    "import numpy as np"
   ]
  },
  {
   "cell_type": "code",
   "execution_count": 14,
   "id": "a92e3076-b191-47e5-84bc-04a9dd1f99fb",
   "metadata": {},
   "outputs": [],
   "source": [
    "from algorithms import LinearRegression"
   ]
  },
  {
   "cell_type": "code",
   "execution_count": 15,
   "id": "29716a0a-e8e2-4bf6-b1ec-6e8f78cf8751",
   "metadata": {},
   "outputs": [
    {
     "name": "stdout",
     "output_type": "stream",
     "text": [
      "Help on function fit in module algorithms.linear_regression:\n",
      "\n",
      "fit(self, X, y, epochs=100, alpha=0.01, Lambda=0.0001, error_threshold=0.001, validation_size=0.2, output_limit=10)\n",
      "    Fit the linear regression model to the given data.\n",
      "\n",
      "    Parameter\n",
      "    ---------\n",
      "    epochs: int, default=1000\n",
      "        Number of complete iterations through X\n",
      "\n",
      "    alpha : float, default=0.01\n",
      "        Constant Learning Rate\n",
      "\n",
      "    Lambda : float, default=0.0001\n",
      "        Rate for l2 Regularization\n",
      "\n",
      "    error_threshold: float, default=0.001\n",
      "        Threshold for vCost convergence\n",
      "\n",
      "    validation_size: float, default=0.2\n",
      "        Percent of data for validation, 0 <= vs < 1\n",
      "\n",
      "    output_limit : int, default=10\n",
      "        Number of iterations to show\n",
      "\n",
      "    Returns\n",
      "    -------\n",
      "    W : numpy.ndarray\n",
      "        The optimized weights.\n",
      "    b : numpy.longdouble\n",
      "        The optimized intercept.\n",
      "\n"
     ]
    }
   ],
   "source": [
    "help(LinearRegression.fit)"
   ]
  },
  {
   "cell_type": "markdown",
   "id": "5ef81f4c",
   "metadata": {},
   "source": [
    "## Usage"
   ]
  },
  {
   "cell_type": "code",
   "execution_count": 5,
   "id": "dce968dc",
   "metadata": {},
   "outputs": [
    {
     "name": "stdout",
     "output_type": "stream",
     "text": [
      "(0/10) > Epoch: 0 cost: 3368.22703666 vCost: 3300.97566839\n",
      "(1/10) > Epoch: 100 cost: 0.46136860 vCost: 0.44527131\n",
      "(2/10) > Epoch: 200 cost: 0.01807726 vCost: 0.01742713\n",
      "(3/10) > Epoch: 300 cost: 0.00087910 vCost: 0.00084725\n",
      "       * Epoch: 338 vCost: 0.00031620\n",
      "\n",
      "Epoch 338 > vCost Converged with threshold 1e-05. Or performance degraded.\n"
     ]
    },
    {
     "data": {
      "text/plain": [
       "(array([ 5.526 , 11.1641]), 50.037216373611436)"
      ]
     },
     "execution_count": 5,
     "metadata": {},
     "output_type": "execute_result"
    }
   ],
   "source": [
    "m = LinearRegression()\n",
    "X = np.random.rand(1000,2)\n",
    "y = 5.55*X[:,0] + 11.22*X[:,1] + 50\n",
    "m.fit(X, y ,epochs= 1000, alpha = 0.2, error_threshold = 0.00001, output_limit=10)"
   ]
  },
  {
   "cell_type": "markdown",
   "id": "df39efae",
   "metadata": {},
   "source": [
    " "
   ]
  },
  {
   "cell_type": "code",
   "execution_count": 6,
   "id": "3213784a",
   "metadata": {},
   "outputs": [],
   "source": [
    "from sklearn.datasets import make_regression"
   ]
  },
  {
   "cell_type": "code",
   "execution_count": 7,
   "id": "17f50fb5",
   "metadata": {},
   "outputs": [
    {
     "name": "stdout",
     "output_type": "stream",
     "text": [
      "(0/10) > Epoch: 0 cost: 55795.93931730 vCost: 66233.10665206\n",
      "(1/10) > Epoch: 10 cost: 9.61374721 vCost: 13.63082837\n",
      "(2/10) > Epoch: 20 cost: 0.01072405 vCost: 0.01418834\n",
      "       * Epoch: 29 vCost: 0.00443370\n",
      "\n",
      "Epoch 29 > vCost Converged with threshold 0.01. Or performance degraded.\n"
     ]
    },
    {
     "data": {
      "text/plain": [
       "(array([1.3169e+01, 6.1916e+01, 6.7425e-01, 4.0416e+01, 6.8453e+01,\n",
       "        5.4340e+01, 9.7061e+01, 5.0039e+01, 3.3161e+01, 9.5036e+01,\n",
       "        2.7155e-03, 8.1672e+01, 6.0559e+01, 1.5335e+01, 4.8932e+01,\n",
       "        2.8922e+01, 2.3152e+01, 5.7106e+00, 6.9056e+00, 8.4192e+01]),\n",
       " 0.0009759274420771402)"
      ]
     },
     "execution_count": 7,
     "metadata": {},
     "output_type": "execute_result"
    }
   ],
   "source": [
    "X, y = make_regression(n_samples=1000,n_features=20, n_informative=19)\n",
    "m = LinearRegression()\n",
    "m.fit(X, y ,epochs= 100, alpha = 0.5, error_threshold = 0.01, output_limit=10)"
   ]
  },
  {
   "cell_type": "markdown",
   "id": "04ef96b0",
   "metadata": {},
   "source": [
    " "
   ]
  },
  {
   "cell_type": "code",
   "execution_count": 8,
   "id": "7070fa5d",
   "metadata": {},
   "outputs": [],
   "source": [
    "from sklearn.datasets import fetch_california_housing"
   ]
  },
  {
   "cell_type": "code",
   "execution_count": 9,
   "id": "48319847-5c99-43d6-b88e-68a0c6857b8f",
   "metadata": {},
   "outputs": [],
   "source": [
    "california = fetch_california_housing(as_frame=True)"
   ]
  },
  {
   "cell_type": "code",
   "execution_count": 10,
   "id": "488a8b79",
   "metadata": {},
   "outputs": [],
   "source": [
    "X,y = california[\"data\"], california[\"target\"]\n",
    "X,y = X.to_numpy(), y.to_numpy()"
   ]
  },
  {
   "cell_type": "code",
   "execution_count": 11,
   "id": "720a780d-6940-4bab-980b-04ac5b5f3263",
   "metadata": {},
   "outputs": [],
   "source": [
    "from sklearn.preprocessing import StandardScaler\n",
    "scaler = StandardScaler()\n",
    "X = scaler.fit_transform(X)"
   ]
  },
  {
   "cell_type": "code",
   "execution_count": 12,
   "id": "19fca112",
   "metadata": {},
   "outputs": [
    {
     "name": "stdout",
     "output_type": "stream",
     "text": [
      "(0/10) > Epoch: 0 cost: 4.09654386 vCost: 6.61953464\n",
      "(1/10) > Epoch: 2 cost: 2.52936788 vCost: 4.11320062\n",
      "(2/10) > Epoch: 4 cost: 2.52735669 vCost: 4.05134147\n",
      "(3/10) > Epoch: 6 cost: 2.52690437 vCost: 4.04713218\n",
      "(4/10) > Epoch: 8 cost: 2.52615206 vCost: 4.04620072\n",
      "(5/10) > Epoch: 10 cost: 2.52537939 vCost: 4.04547694\n",
      "(6/10) > Epoch: 12 cost: 2.52460583 vCost: 4.04476660\n",
      "(7/10) > Epoch: 14 cost: 2.52383262 vCost: 4.04405734\n",
      "(8/10) > Epoch: 16 cost: 2.52305983 vCost: 4.04334834\n",
      "       * Epoch: 16 vCost: 4.04334834\n",
      "\n",
      "Epoch 16 > vCost Converged with threshold 0.001. Or performance degraded.\n"
     ]
    },
    {
     "data": {
      "text/plain": [
       "(array([0.0507, 0.8839, 0.4577, 0.2947, 0.6564, 0.8595, 0.0673, 0.1276]),\n",
       " 1.9743460920631504)"
      ]
     },
     "execution_count": 12,
     "metadata": {},
     "output_type": "execute_result"
    }
   ],
   "source": [
    "m = LinearRegression()\n",
    "m.fit(X, y ,epochs= 25, alpha = 0.0001, error_threshold = 1/1000, validation_size=1/3 ,output_limit=10)"
   ]
  }
 ],
 "metadata": {
  "kernelspec": {
   "display_name": "Python 3 (ipykernel)",
   "language": "python",
   "name": "python3"
  },
  "language_info": {
   "codemirror_mode": {
    "name": "ipython",
    "version": 3
   },
   "file_extension": ".py",
   "mimetype": "text/x-python",
   "name": "python",
   "nbconvert_exporter": "python",
   "pygments_lexer": "ipython3",
   "version": "3.12.3"
  }
 },
 "nbformat": 4,
 "nbformat_minor": 5
}
