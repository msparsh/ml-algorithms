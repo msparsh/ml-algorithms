{
 "cells": [
  {
   "cell_type": "markdown",
   "id": "40d24fbd",
   "metadata": {},
   "source": [
    "# Learning Implementation for Batch Gradient Descent\n",
    "\n",
    "Todo:\n",
    "* Add Testing"
   ]
  },
  {
   "cell_type": "code",
   "execution_count": 1,
   "id": "3809c663",
   "metadata": {},
   "outputs": [],
   "source": [
    "import numpy as np\n",
    "from sklearn.metrics import mean_squared_error\n",
    "from sklearn.datasets import make_regression"
   ]
  },
  {
   "cell_type": "markdown",
   "id": "7eb16050",
   "metadata": {},
   "source": [
    "### Batch Gradient Descent"
   ]
  },
  {
   "cell_type": "code",
   "execution_count": 2,
   "id": "0e9ba64b",
   "metadata": {},
   "outputs": [],
   "source": [
    "def single_update(X, y, y_, W, b, alpha,m):\n",
    "    \"\"\"Returns W and b after training once through the dataset.\n",
    "    \"\"\"\n",
    "    \n",
    "    res = y - y_ # Residuals\n",
    "\n",
    "    dJ_dW = np.dot(X.T, res) / m\n",
    "    dJ_db = np.mean(res)\n",
    "\n",
    "    W += alpha * dJ_dW\n",
    "    b += alpha * dJ_db\n",
    "\n",
    "    return W, b"
   ]
  },
  {
   "cell_type": "code",
   "execution_count": 3,
   "id": "0cd4fa7f",
   "metadata": {},
   "outputs": [],
   "source": [
    "def GD_LinearRegression(X, y, iterations = 100, alpha = 0.001):\n",
    "    \"\"\"Returns W,b after training lr using full batch gradient descent.\n",
    "    \n",
    "    Parameter\n",
    "    ---------\n",
    "    iterations: int, default=100\n",
    "        Number of complete iterations through X.\n",
    "        \n",
    "    alpha: float, default=0.000001\n",
    "        Constant Learning Rate.\n",
    "    \n",
    "    Returns\n",
    "    -------\n",
    "    W: ndarray\n",
    "        Optimized weights.\n",
    "    b: float\n",
    "        Optimized intercept.\n",
    "        \n",
    "    \"\"\"\n",
    "    \n",
    "    m, n = X.shape\n",
    "    W = np.zeros(n) # Zero Initialization\n",
    "    b = 0\n",
    "    \n",
    "    for k in range(iterations+1): # +1 for printing facilitation\n",
    "        y_ = np.dot(X, W) + b\n",
    "            \n",
    "        if k % (iterations//10) == 0:\n",
    "            print(f\"Iteration: {k} > \",\n",
    "                  f\"Cost: {mean_squared_error(y, y_)}\",\n",
    "                  f\" Weights:{W}\",\n",
    "                  f\"Bias: {b}\")\n",
    "\n",
    "        W,b = single_update(X,y,y_, W, b,alpha,m)\n",
    "        \n",
    "    return W,b"
   ]
  },
  {
   "cell_type": "markdown",
   "id": "a2d04444",
   "metadata": {},
   "source": [
    "### Example Usage"
   ]
  },
  {
   "cell_type": "code",
   "execution_count": 4,
   "id": "76b6fdd0",
   "metadata": {},
   "outputs": [
    {
     "name": "stdout",
     "output_type": "stream",
     "text": [
      "Iteration: 0 >  Cost: 421.13196037178534  Weights:[0. 0.] Bias: 0\n",
      "Iteration: 50 >  Cost: 3.0129087295959236  Weights:[6.7405 1.6779] Bias: 16.059920135182356\n",
      "Iteration: 100 >  Cost: 0.9034764806010332  Weights:[ 6.2882 -1.0161] Bias: 17.735110467960556\n",
      "Iteration: 150 >  Cost: 0.28180352933360386  Weights:[ 5.8615 -2.4034] Bias: 18.698520377685796\n",
      "Iteration: 200 >  Cost: 0.0900289729282785  Weights:[ 5.5461 -3.1326] Bias: 19.252318920294044\n",
      "Iteration: 250 >  Cost: 0.029163452313427228  Weights:[ 5.3353 -3.5228] Bias: 19.5705489718718\n",
      "Iteration: 300 >  Cost: 0.009520876090697478  Weights:[ 5.2017 -3.7348] Bias: 19.753367200700765\n",
      "Iteration: 350 >  Cost: 0.003121635045466223  Weights:[ 5.1196 -3.8515] Bias: 19.85837371234889\n",
      "Iteration: 400 >  Cost: 0.0010259090144777566  Weights:[ 5.0703 -3.9163] Bias: 19.918678672291982\n",
      "Iteration: 450 >  Cost: 0.00033759151999810457  Weights:[ 5.0411 -3.9526] Bias: 19.953308137983683\n",
      "Iteration: 500 >  Cost: 0.00011116701776645924  Weights:[ 5.0239 -3.9731] Bias: 19.973192248704027\n"
     ]
    }
   ],
   "source": [
    "X = np.random.rand(1000, 2)\n",
    "y = 5*X[:,0] - 4*X[:,1] + 20\n",
    "with np.printoptions(precision=4):\n",
    "    GD_LinearRegression(X,y,500, 0.2)"
   ]
  },
  {
   "cell_type": "code",
   "execution_count": 5,
   "id": "b1124aae",
   "metadata": {},
   "outputs": [
    {
     "name": "stdout",
     "output_type": "stream",
     "text": [
      "Iteration: 0 >  Cost: 3182.6390476828487  Weights:[0. 0.] Bias: 0\n",
      "Iteration: 100 >  Cost: 0.009059278733004392  Weights:[41.0888 40.0554] Bias: 9.995484684435944\n",
      "Iteration: 200 >  Cost: 0.009059278733004392  Weights:[41.0888 40.0554] Bias: 9.995484684435944\n",
      "Iteration: 300 >  Cost: 0.009059278733004392  Weights:[41.0888 40.0554] Bias: 9.995484684435944\n",
      "Iteration: 400 >  Cost: 0.009059278733004392  Weights:[41.0888 40.0554] Bias: 9.995484684435944\n",
      "Iteration: 500 >  Cost: 0.009059278733004392  Weights:[41.0888 40.0554] Bias: 9.995484684435944\n",
      "Iteration: 600 >  Cost: 0.009059278733004392  Weights:[41.0888 40.0554] Bias: 9.995484684435944\n",
      "Iteration: 700 >  Cost: 0.009059278733004392  Weights:[41.0888 40.0554] Bias: 9.995484684435944\n",
      "Iteration: 800 >  Cost: 0.009059278733004392  Weights:[41.0888 40.0554] Bias: 9.995484684435944\n",
      "Iteration: 900 >  Cost: 0.009059278733004392  Weights:[41.0888 40.0554] Bias: 9.995484684435944\n",
      "Iteration: 1000 >  Cost: 0.009059278733004392  Weights:[41.0888 40.0554] Bias: 9.995484684435944\n"
     ]
    }
   ],
   "source": [
    "X, y = make_regression(n_samples=1000, n_features=2, noise=0.1, random_state=0)\n",
    "with np.printoptions(precision=4):\n",
    "    GD_LinearRegression(X,y+10,1000, 0.5)"
   ]
  },
  {
   "cell_type": "code",
   "execution_count": null,
   "id": "6988f001",
   "metadata": {},
   "outputs": [],
   "source": []
  }
 ],
 "metadata": {
  "kernelspec": {
   "display_name": "Python 3 (ipykernel)",
   "language": "python",
   "name": "python3"
  },
  "language_info": {
   "codemirror_mode": {
    "name": "ipython",
    "version": 3
   },
   "file_extension": ".py",
   "mimetype": "text/x-python",
   "name": "python",
   "nbconvert_exporter": "python",
   "pygments_lexer": "ipython3",
   "version": "3.10.12"
  }
 },
 "nbformat": 4,
 "nbformat_minor": 5
}
