{
 "cells": [
  {
   "cell_type": "markdown",
   "id": "e55fa8fd",
   "metadata": {},
   "source": [
    "# Improved Implementation for Stochastic Linear Regression\n",
    "with regularization.\\\n",
    "with efficiency improvements.\\\n",
    "Recommended to check cost after convergence."
   ]
  },
  {
   "cell_type": "code",
   "execution_count": 1,
   "id": "e22de211",
   "metadata": {},
   "outputs": [],
   "source": [
    "import numpy as np"
   ]
  },
  {
   "cell_type": "markdown",
   "id": "8195ef49",
   "metadata": {},
   "source": [
    "## Implementation"
   ]
  },
  {
   "cell_type": "code",
   "execution_count": 2,
   "id": "ec60f9f2",
   "metadata": {},
   "outputs": [],
   "source": [
    "class LinearRegression:\n",
    "    \"\"\"Linear regression model with L2 regularization.\"\"\"\n",
    "    \n",
    "    DEFAULT_EPOCHS = 1000\n",
    "    DEFAULT_ALPHA = 0.01\n",
    "    DEFAULT_LAMBDA = 0.0001\n",
    "    DEFAULT_ERROR_THRESHOLD = 0.001\n",
    "    DEFAULT_VALIDATION_SIZE = 0.2\n",
    "    \n",
    "    COUNTING = False\n",
    "\n",
    "\n",
    "    def compute_cost(self, y, y_, Lambda, W, m):\n",
    "        \"\"\"Compute cost function with L2 regularization.\"\"\"\n",
    "        return np.mean((y-y_)**2) + ((np.sum(W**2)) * Lambda/(2*m))\n",
    "    \n",
    "    \n",
    "    def validation_split(self, X, y, validation_size=DEFAULT_VALIDATION_SIZE):\n",
    "        \"\"\"Splits X and y into train and validatation set\"\"\"\n",
    "        val = int(X.shape[0] * (1 - validation_size))\n",
    "        return X[:val], y[:val], X[val:], y[val:]\n",
    "    \n",
    "    \n",
    "    def log_current(self, k, num_out, output_limit,cost, vcost):\n",
    "        \"\"\"Log current training information.\"\"\"\n",
    "        print(f\"({k//num_out}/{output_limit}) > Epoch: {k}\",\n",
    "              f\"cost: {cost:.8f}\",\n",
    "              f\"vCost: {vcost:.8f}\")\n",
    "        \n",
    "    \n",
    "    def convergence_test(self, current_cost, past_cost, error_threshold, k):\n",
    "        # Simple convergence test\n",
    "        if  (past_cost - current_cost < error_threshold):\n",
    "            COUNTING = True\n",
    "            self.c+=1\n",
    "            if self.c >= 10:\n",
    "                print(f\"Past: {past_cost}, Curr: {current_cost}\")\n",
    "                print(f\"\\nEpoch: {k} vCost Converged with threshold: {error_threshold}. OR performance degraded.\")\n",
    "                self.EXIT = True\n",
    "                \n",
    "            # Also returns in case of validation perf degradation (overfit)\n",
    "            return True\n",
    "        else: \n",
    "            COUNTING = False\n",
    "            self.c=0\n",
    "\n",
    "    def single_step(self, Xi, yi, m, W, b, alpha, Lambda):\n",
    "        \"\"\"Perform a single step of gradient descent.\"\"\"\n",
    "        \n",
    "        y_i = np.dot(Xi, W) + b \n",
    "        res = yi - y_i\n",
    "        \n",
    "        dJ_dW = np.dot(res, Xi)  - Lambda * W\n",
    "        dJ_db = res.mean()\n",
    "\n",
    "        W += dJ_dW * alpha / m\n",
    "        b += dJ_db * alpha\n",
    "\n",
    "        return W,b\n",
    "    \n",
    "    def fit(self, X, y,\n",
    "            epochs = DEFAULT_EPOCHS,\n",
    "            alpha = DEFAULT_ALPHA,\n",
    "            Lambda=DEFAULT_LAMBDA,\n",
    "            error_threshold = DEFAULT_ERROR_THRESHOLD,\n",
    "            validation_size = DEFAULT_VALIDATION_SIZE,\n",
    "            output_limit=10):\n",
    "        \"\"\"Fit the linear regression model to the given data.\n",
    "        \n",
    "        Parameter\n",
    "        ---------\n",
    "        epochs: int, default=1000\n",
    "            Number of complete iterations through X\n",
    "\n",
    "        alpha : float, default=0.01\n",
    "            Constant Learning Rate\n",
    "\n",
    "        Lambda : float, default=0.0001\n",
    "            Rate for l2 Regularization\n",
    "\n",
    "        output_limit : int, default=10\n",
    "            Number of iterations to show\n",
    "\n",
    "        Returns\n",
    "        -------\n",
    "        W : numpy.ndarray\n",
    "            The optimized weights.\n",
    "        b : numpy.longdouble\n",
    "            The optimized itercept.\n",
    "        \"\"\"\n",
    " \n",
    "        if output_limit<=0:\n",
    "            raise ValueError(\"Output limit should be greater than 0\")\n",
    "        \n",
    "        num_out = epochs//output_limit\n",
    "        np.set_printoptions(precision=4)\n",
    "        \n",
    "        X, y, X_val, y_val = self.validation_split(X,y, validation_size)\n",
    "        m,n = X.shape\n",
    "        \n",
    "        W = np.random.rand(n)\n",
    "        b = np.random.rand()\n",
    "        \n",
    "        y_ = np.dot(X,W) + b\n",
    "        y_val_ = np.dot(X_val,W) + b\n",
    "\n",
    "        cost = self.compute_cost(y,y_,Lambda,W,m)\n",
    "        past_cost = self.compute_cost(y_val,y_val_,Lambda,W,m)\n",
    "        \n",
    "        self.c=0 # to count convergence for consecutive iterations\n",
    "        self.EXIT = False # Exit flag for convergence\n",
    "        \n",
    "        self.log_current(0, num_out, output_limit, cost, past_cost) # Initial Out\n",
    "\n",
    "        try:\n",
    "            for k in range(1, epochs+1):\n",
    "                for i in range(m):\n",
    "                    W,b = self.single_step(X[i], y[i], m, W, b, alpha, Lambda)\n",
    "                \n",
    "\n",
    "\n",
    "                if k % num_out == 0:\n",
    "                    y_ = np.dot(X,W) + b\n",
    "                    y_val_ = np.dot(X_val,W) + b\n",
    "                    \n",
    "                    cost = self.compute_cost(y,y_,Lambda,W,m)\n",
    "                    vcost = self.compute_cost(y_val,y_val_,Lambda,W,m)\n",
    "                    \n",
    "                    self.log_current(k, num_out, output_limit, cost, vcost)\n",
    "                \n",
    "                \n",
    "                y_val_ = np.dot(X_val,W) + b\n",
    "                current_cost = self.compute_cost(y_val,y_val_,Lambda,W,m) # vCost\n",
    "                if self.convergence_test(current_cost, past_cost, error_threshold, k):\n",
    "                    if self.EXIT:\n",
    "                        return (W, b)\n",
    "                past_cost = current_cost\n",
    "\n",
    "                    \n",
    "                    \n",
    "        except KeyboardInterrupt:\n",
    "            print(f\"\\nTerminated! Returned: Weights: {W}, Bias: {b}\")\n",
    "            return (W, b)\n",
    "        return (W, b)"
   ]
  },
  {
   "cell_type": "markdown",
   "id": "5ef81f4c",
   "metadata": {},
   "source": [
    "## Usage"
   ]
  },
  {
   "cell_type": "code",
   "execution_count": 3,
   "id": "dce968dc",
   "metadata": {},
   "outputs": [
    {
     "name": "stdout",
     "output_type": "stream",
     "text": [
      "(0/10) > Epoch: 0 cost: 3296.22020254 vCost: 3318.95372763\n",
      "(1/10) > Epoch: 100 cost: 2.51389679 vCost: 2.35991448\n",
      "(2/10) > Epoch: 200 cost: 0.46209224 vCost: 0.43522069\n",
      "(3/10) > Epoch: 300 cost: 0.08628342 vCost: 0.08155640\n",
      "(4/10) > Epoch: 400 cost: 0.01658474 vCost: 0.01573418\n",
      "Past: 0.00546643265440494, Curr: 0.005380941469931168\n",
      "\n",
      "Epoch: 467 vCost Converged with threshold: 0.0001. OR performance degraded.\n"
     ]
    },
    {
     "data": {
      "text/plain": [
       "(array([ 5.41  , 11.0225]), 50.14072815374933)"
      ]
     },
     "execution_count": 3,
     "metadata": {},
     "output_type": "execute_result"
    }
   ],
   "source": [
    "m = LinearRegression()\n",
    "X = np.random.rand(1000,2)\n",
    "y = 5.55*X[:,0] + 11.22*X[:,1] + 50\n",
    "m.fit(X, y ,epochs= 1000, alpha = 0.1, error_threshold = 0.0001, output_limit=10)"
   ]
  },
  {
   "cell_type": "markdown",
   "id": "df39efae",
   "metadata": {},
   "source": [
    " "
   ]
  },
  {
   "cell_type": "code",
   "execution_count": 4,
   "id": "3213784a",
   "metadata": {},
   "outputs": [],
   "source": [
    "from sklearn.datasets import make_regression"
   ]
  },
  {
   "cell_type": "code",
   "execution_count": 5,
   "id": "17f50fb5",
   "metadata": {},
   "outputs": [
    {
     "name": "stdout",
     "output_type": "stream",
     "text": [
      "(0/10) > Epoch: 0 cost: 24622.63849604 vCost: 23589.21474366\n",
      "(1/10) > Epoch: 10 cost: 2.82533122 vCost: 3.08274955\n",
      "(2/10) > Epoch: 20 cost: 0.00330751 vCost: 0.00350401\n",
      "(3/10) > Epoch: 30 cost: 0.00195199 vCost: 0.00195039\n",
      "Past: 0.0019418035479161198, Curr: 0.0019406333968708868\n",
      "\n",
      "Epoch: 34 vCost Converged with threshold: 0.0001. OR performance degraded.\n"
     ]
    },
    {
     "data": {
      "text/plain": [
       "(array([-1.6195e-04,  8.0211e+01, -1.2919e-03,  7.1480e-04,  1.1354e-04,\n",
       "         5.1150e+01,  8.8775e+01, -6.7683e-04,  5.8189e+01,  4.2497e+01,\n",
       "         3.7029e-04,  7.0394e-01,  8.9075e+00,  6.6599e+01, -1.5054e-03]),\n",
       " -0.001320720106801069)"
      ]
     },
     "execution_count": 5,
     "metadata": {},
     "output_type": "execute_result"
    }
   ],
   "source": [
    "\n",
    "X, y = make_regression(n_samples=1000,n_features=15, n_informative=8)\n",
    "m = LinearRegression()\n",
    "m.fit(X, y ,epochs= 100, alpha = 0.5, error_threshold = 0.0001, output_limit=10)"
   ]
  },
  {
   "cell_type": "markdown",
   "id": "04ef96b0",
   "metadata": {},
   "source": [
    " "
   ]
  },
  {
   "cell_type": "code",
   "execution_count": 6,
   "id": "7070fa5d",
   "metadata": {},
   "outputs": [],
   "source": [
    "from sklearn.datasets import fetch_california_housing"
   ]
  },
  {
   "cell_type": "code",
   "execution_count": 7,
   "id": "488a8b79",
   "metadata": {},
   "outputs": [],
   "source": [
    "X,y = fetch_california_housing(return_X_y=True)\n",
    "X = X[:100]\n",
    "y = y[:100]"
   ]
  },
  {
   "cell_type": "code",
   "execution_count": 8,
   "id": "19fca112",
   "metadata": {},
   "outputs": [
    {
     "name": "stdout",
     "output_type": "stream",
     "text": [
      "(0/10) > Epoch: 0 cost: 600622.60615806 vCost: 1133748.22251306\n",
      "(1/10) > Epoch: 1000 cost: 1.06732488 vCost: 2.44941944\n",
      "(2/10) > Epoch: 2000 cost: 0.89299040 vCost: 2.30068927\n",
      "(3/10) > Epoch: 3000 cost: 0.82875133 vCost: 2.14981130\n",
      "(4/10) > Epoch: 4000 cost: 0.77588701 vCost: 2.02006497\n",
      "(5/10) > Epoch: 5000 cost: 0.73191281 vCost: 1.90873490\n",
      "Past: 1.887837853773696, Curr: 1.8877380058108637\n",
      "\n",
      "Epoch: 5207 vCost Converged with threshold: 0.0001. OR performance degraded.\n"
     ]
    },
    {
     "data": {
      "text/plain": [
       "(array([ 2.1277e-01, -2.8978e-03,  4.4214e-01,  7.8433e-01,  5.4718e-04,\n",
       "         1.1769e-01,  7.7065e-01,  2.6917e-01]),\n",
       " 1.250649401879181)"
      ]
     },
     "execution_count": 8,
     "metadata": {},
     "output_type": "execute_result"
    }
   ],
   "source": [
    "m = LinearRegression()\n",
    "m.fit(X, y ,epochs= 10000, alpha = 0.0001, error_threshold = 0.0001, output_limit=10)"
   ]
  }
 ],
 "metadata": {
  "kernelspec": {
   "display_name": "Python 3 (ipykernel)",
   "language": "python",
   "name": "python3"
  },
  "language_info": {
   "codemirror_mode": {
    "name": "ipython",
    "version": 3
   },
   "file_extension": ".py",
   "mimetype": "text/x-python",
   "name": "python",
   "nbconvert_exporter": "python",
   "pygments_lexer": "ipython3",
   "version": "3.10.12"
  }
 },
 "nbformat": 4,
 "nbformat_minor": 5
}
