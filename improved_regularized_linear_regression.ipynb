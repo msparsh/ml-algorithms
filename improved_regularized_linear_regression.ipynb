{
 "cells": [
  {
   "cell_type": "markdown",
   "id": "e55fa8fd",
   "metadata": {},
   "source": [
    "# Improved Implementation for Stochastic Linear Regression\n",
    "with regularization.\\\n",
    "with efficiency improvements.\\\n",
    "Recommended to check cost after convergence."
   ]
  },
  {
   "cell_type": "code",
   "execution_count": 1,
   "id": "e22de211",
   "metadata": {},
   "outputs": [],
   "source": [
    "import numpy as np"
   ]
  },
  {
   "cell_type": "markdown",
   "id": "8195ef49",
   "metadata": {},
   "source": [
    "## Implementation"
   ]
  },
  {
   "cell_type": "code",
   "execution_count": 2,
   "id": "ec60f9f2",
   "metadata": {},
   "outputs": [],
   "source": [
    "class LinearRegression:\n",
    "    \"\"\"Linear regression model with L2 regularization.\"\"\"\n",
    "    \n",
    "    DEFAULT_EPOCHS = 1000\n",
    "    DEFAULT_ALPHA = 0.01\n",
    "    DEFAULT_LAMBDA = 0.0001\n",
    "\n",
    "    def compute_cost(self, y, y_, Lambda, W, m):\n",
    "        \"\"\"Compute cost function with L2 regularization.\"\"\"\n",
    "        return np.mean((y-y_)**2) + ((np.sum(W**2)) * Lambda/(2*m))\n",
    "    \n",
    "    def validation_split(self, X, y, validation_size):\n",
    "        val = int(X.shape[0] * (1 - validation_size))\n",
    "        return X[:val], y[:val], X[val:], y[val:]\n",
    "    \n",
    "    def log_current(self, k, num_out, output_limit,cost, vcost):\n",
    "        \"\"\"Log current training information.\"\"\"\n",
    "        \n",
    "        print(f\"({k//num_out}/{output_limit}) > Epoch: {k}\",\n",
    "              f\"Cost: {cost:.8f}\",\n",
    "                f\"vCost: {vcost:.8f}\")\n",
    "    \n",
    "    def convergence_test(self, current_cost, past_cost, error_threshold, k):\n",
    "        # Simple convergence test\n",
    "        if  (past_cost - current_cost < error_threshold):\n",
    "            # Also returns in case of validation perf degradation (overfit)\n",
    "            print(f\"\\nEpoch: {k} vCost Converged with threshold: {error_threshold}. Returning W and b\")\n",
    "            print(f\"Past: {past_cost}, Curr: {current_cost}\")\n",
    "            return True\n",
    "\n",
    "    def single_step(self, Xi, yi, m, W, b, alpha, Lambda):\n",
    "        \"\"\"Perform a single step of gradient descent.\"\"\"\n",
    "        \n",
    "        y_i = np.dot(Xi, W) + b \n",
    "        res = yi - y_i\n",
    "        \n",
    "        dJ_dW = np.dot(res, Xi)  - Lambda * W\n",
    "        dJ_db = res.mean()\n",
    "\n",
    "        W += dJ_dW * alpha / m\n",
    "        b += dJ_db * alpha\n",
    "\n",
    "        return W,b\n",
    "    \n",
    "    def fit(self, X, y,\n",
    "            epochs = DEFAULT_EPOCHS,\n",
    "            alpha = DEFAULT_ALPHA,\n",
    "            Lambda=DEFAULT_LAMBDA,\n",
    "            error_threshold = 0.001,\n",
    "            validation_size = 0.2,\n",
    "            output_limit=10):\n",
    "        \"\"\"Fit the linear regression model to the given data.\n",
    "        \n",
    "        Parameter\n",
    "        ---------\n",
    "        epochs: int, default=1000\n",
    "            Number of complete iterations through X\n",
    "\n",
    "        alpha : float, default=0.01\n",
    "            Constant Learning Rate\n",
    "\n",
    "        Lambda : float, default=0.0001\n",
    "            Rate for l2 Regularization\n",
    "\n",
    "        output_limit : int, default=10\n",
    "            Number of iterations to show\n",
    "\n",
    "        Returns\n",
    "        -------\n",
    "        W : numpy.ndarray\n",
    "            The optimized weights.\n",
    "        b : numpy.longdouble\n",
    "            The optimized itercept.\n",
    "        \"\"\"\n",
    " \n",
    "        if output_limit<=0:\n",
    "            raise ValueError(\"Output limit should be greater than 0\")\n",
    "        \n",
    "        num_out = epochs//output_limit\n",
    "        np.set_printoptions(precision=4)\n",
    "        \n",
    "        X, y, X_val, y_val = self.validation_split(X,y, validation_size)\n",
    "        m,n = X.shape\n",
    "        \n",
    "        W = np.random.rand(n)\n",
    "        b = np.random.rand()\n",
    "        \n",
    "        y_ = np.dot(X,W) + b\n",
    "        y_val_ = np.dot(X_val,W) + b\n",
    "\n",
    "        cost = self.compute_cost(y,y_,Lambda,W,m)\n",
    "        past_cost = self.compute_cost(y_val,y_val_,Lambda,W,m)\n",
    "        \n",
    "        self.log_current(0, num_out, output_limit, cost, past_cost) # Initial Out\n",
    "\n",
    "        try:\n",
    "            for k in range(1, epochs+1):\n",
    "                for i in range(m):\n",
    "                    W,b = self.single_step(X[i], y[i], m, W, b, alpha, Lambda)\n",
    "                \n",
    "\n",
    "\n",
    "                if k % num_out == 0:\n",
    "                    y_ = np.dot(X,W) + b\n",
    "                    y_val_ = np.dot(X_val,W) + b\n",
    "                    cost = self.compute_cost(y,y_,Lambda,W,m)\n",
    "                    vcost = self.compute_cost(y_val,y_val_,Lambda,W,m)\n",
    "                    self.log_current(k, num_out, output_limit, cost, vcost)\n",
    "                \n",
    "                \n",
    "                # Inefficeint and slow to calulate these every epoch.\n",
    "                y_val_ = np.dot(X_val,W) + b\n",
    "                current_cost = self.compute_cost(y_val,y_val_,Lambda,W,m)\n",
    "                #print(current_cost)\n",
    "                if self.convergence_test(current_cost, past_cost, error_threshold, k):\n",
    "                    return (W, b)\n",
    "                past_cost = current_cost\n",
    "\n",
    "                    \n",
    "                    \n",
    "        except KeyboardInterrupt:\n",
    "            print(f\"\\nTerminated! Returned: Weights: {W}, Bias: {b}\")\n",
    "            return (W, b)\n",
    "        return (W,b)"
   ]
  },
  {
   "cell_type": "markdown",
   "id": "5ef81f4c",
   "metadata": {},
   "source": [
    "## Usage"
   ]
  },
  {
   "cell_type": "code",
   "execution_count": 3,
   "id": "dce968dc",
   "metadata": {},
   "outputs": [
    {
     "name": "stdout",
     "output_type": "stream",
     "text": [
      "(0/10) > Epoch: 0 Cost: 3303.82611436 vCost: 3322.71967301\n",
      "(1/10) > Epoch: 100 Cost: 2.19364647 vCost: 2.05647876\n",
      "(2/10) > Epoch: 200 Cost: 0.39142207 vCost: 0.36909581\n",
      "(3/10) > Epoch: 300 Cost: 0.07095134 vCost: 0.06732987\n",
      "(4/10) > Epoch: 400 Cost: 0.01325814 vCost: 0.01266527\n",
      "\n",
      "Epoch: 445 vCost Converged with threshold: 0.0001. Returning W and b\n",
      "Past: 0.006175914768884979, Curr: 0.006076941587158946\n"
     ]
    },
    {
     "data": {
      "text/plain": [
       "(array([ 5.4037, 10.9918]), 50.18668912546416)"
      ]
     },
     "execution_count": 3,
     "metadata": {},
     "output_type": "execute_result"
    }
   ],
   "source": [
    "m = LinearRegression()\n",
    "X = np.random.rand(1000,2)\n",
    "y = 5.55*X[:,0] + 11.22*X[:,1] + 50\n",
    "m.fit(X, y ,epochs= 1000, alpha = 0.1, error_threshold = 0.0001, output_limit=10)"
   ]
  },
  {
   "cell_type": "markdown",
   "id": "df39efae",
   "metadata": {},
   "source": [
    " "
   ]
  },
  {
   "cell_type": "code",
   "execution_count": 4,
   "id": "3213784a",
   "metadata": {},
   "outputs": [],
   "source": [
    "from sklearn.datasets import make_regression"
   ]
  },
  {
   "cell_type": "code",
   "execution_count": 5,
   "id": "17f50fb5",
   "metadata": {},
   "outputs": [
    {
     "name": "stdout",
     "output_type": "stream",
     "text": [
      "(0/10) > Epoch: 0 Cost: 14897.01193591 vCost: 17379.55506474\n",
      "(1/10) > Epoch: 50 Cost: 127.79093386 vCost: 155.93963417\n",
      "(2/10) > Epoch: 100 Cost: 1.30657459 vCost: 1.57948688\n",
      "(3/10) > Epoch: 150 Cost: 0.01895122 vCost: 0.02231728\n",
      "\n",
      "Epoch: 187 vCost Converged with threshold: 0.0001. Returning W and b\n",
      "Past: 0.002608850163827872, Curr: 0.0025159759434306853\n"
     ]
    },
    {
     "data": {
      "text/plain": [
       "(array([ 1.6014e+01,  1.8524e-03,  9.5916e+01,  2.4372e-03, -7.3535e-03,\n",
       "        -2.8131e-04,  4.3107e+01,  2.5044e-04, -1.4360e-03, -7.7187e-03,\n",
       "         6.4066e+01, -8.2397e-03,  2.8600e-03,  6.6828e-04,  1.2954e+01]),\n",
       " 0.009881927105736972)"
      ]
     },
     "execution_count": 5,
     "metadata": {},
     "output_type": "execute_result"
    }
   ],
   "source": [
    "X, y = make_regression(n_samples=1000,n_features=15, n_informative=5)\n",
    "m = LinearRegression()\n",
    "m.fit(X, y ,epochs= 500, alpha = 0.05, error_threshold = 0.0001, output_limit=10)"
   ]
  },
  {
   "cell_type": "markdown",
   "id": "04ef96b0",
   "metadata": {},
   "source": [
    " "
   ]
  },
  {
   "cell_type": "code",
   "execution_count": 6,
   "id": "7070fa5d",
   "metadata": {},
   "outputs": [],
   "source": [
    "from sklearn.datasets import fetch_california_housing"
   ]
  },
  {
   "cell_type": "code",
   "execution_count": 7,
   "id": "488a8b79",
   "metadata": {},
   "outputs": [],
   "source": [
    "X,y = fetch_california_housing(return_X_y=True)\n",
    "X = X[:100]\n",
    "y = y[:100]"
   ]
  },
  {
   "cell_type": "code",
   "execution_count": 8,
   "id": "19fca112",
   "metadata": {},
   "outputs": [
    {
     "name": "stdout",
     "output_type": "stream",
     "text": [
      "(0/10) > Epoch: 0 Cost: 487270.28261543 vCost: 892616.20691145\n",
      "(1/10) > Epoch: 1000 Cost: 5.55564243 vCost: 14.85591705\n",
      "(2/10) > Epoch: 2000 Cost: 1.50895727 vCost: 6.11432916\n",
      "(3/10) > Epoch: 3000 Cost: 1.02802804 vCost: 4.10038092\n",
      "(4/10) > Epoch: 4000 Cost: 1.05533599 vCost: 3.55100596\n",
      "(5/10) > Epoch: 5000 Cost: 1.10649970 vCost: 3.36154732\n",
      "\n",
      "Epoch: 5228 vCost Converged with threshold: 0.0001. Returning W and b\n",
      "Past: 3.336832879809592, Curr: 3.3367329199867024\n"
     ]
    },
    {
     "data": {
      "text/plain": [
       "(array([ 4.0604e-01, -1.4808e-02,  1.6626e-01,  6.1842e-01, -6.0630e-05,\n",
       "         9.0226e-01,  7.5197e-01,  2.6131e-01]),\n",
       " 0.5599305684216496)"
      ]
     },
     "execution_count": 8,
     "metadata": {},
     "output_type": "execute_result"
    }
   ],
   "source": [
    "m = LinearRegression()\n",
    "m.fit(X, y ,epochs= 10000, alpha = 0.00001, error_threshold = 0.0001, output_limit=10)"
   ]
  },
  {
   "cell_type": "code",
   "execution_count": null,
   "id": "9dbd2349",
   "metadata": {},
   "outputs": [],
   "source": []
  }
 ],
 "metadata": {
  "kernelspec": {
   "display_name": "Python 3 (ipykernel)",
   "language": "python",
   "name": "python3"
  },
  "language_info": {
   "codemirror_mode": {
    "name": "ipython",
    "version": 3
   },
   "file_extension": ".py",
   "mimetype": "text/x-python",
   "name": "python",
   "nbconvert_exporter": "python",
   "pygments_lexer": "ipython3",
   "version": "3.10.12"
  }
 },
 "nbformat": 4,
 "nbformat_minor": 5
}
