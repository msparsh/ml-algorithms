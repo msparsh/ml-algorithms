{
 "cells": [
  {
   "cell_type": "markdown",
   "id": "e55fa8fd",
   "metadata": {},
   "source": [
    "# Improved Implementation for Stochastic Linear Regression\n",
    "with regularization.\\\n",
    "with efficiency improvements.\n",
    "\n",
    "Todo:\n",
    "* Stopping Condition"
   ]
  },
  {
   "cell_type": "code",
   "execution_count": 1,
   "id": "e22de211",
   "metadata": {},
   "outputs": [],
   "source": [
    "import numpy as np"
   ]
  },
  {
   "cell_type": "markdown",
   "id": "8195ef49",
   "metadata": {},
   "source": [
    "## Implementation"
   ]
  },
  {
   "cell_type": "code",
   "execution_count": 2,
   "id": "ec60f9f2",
   "metadata": {},
   "outputs": [],
   "source": [
    "class LinearRegression:\n",
    "    \"\"\"Linear regression model with L2 regularization.\"\"\"\n",
    "    \n",
    "    DEFAULT_EPOCHS = 1000\n",
    "    DEFAULT_ALPHA = 0.01\n",
    "    DEFAULT_LAMBDA = 0.0001\n",
    "\n",
    "    def compute_cost(self, y, y_, Lambda, W, m):\n",
    "        \"\"\"Compute cost function with L2 regularization.\"\"\"\n",
    "        \n",
    "        return np.mean((y-y_)**2) + ((np.sum(W**2)) * Lambda/(2*m))\n",
    "    \n",
    "    def log_current(self, k, num_out, output_limit, y, y_, Lambda, W, m, b):\n",
    "        \"\"\"Log current training information.\"\"\"\n",
    "        \n",
    "        print(f\"({k//num_out}/{output_limit}) > Epoch: {k}\",\n",
    "              f\"Cost: {self.compute_cost(y,y_,Lambda,W,m):.8f}\",\n",
    "              f\"W: {W}\",\n",
    "              f\"b: {b:.4f}\")\n",
    "    \n",
    "    def convergence_test(self, current_cost, past_cost, error_threshold, k):\n",
    "        # Simple convergence test\n",
    "        if past_cost - current_cost < error_threshold:\n",
    "            print(f\"\\nEpoch: {k} Converged with threshold: {error_threshold}. Returning W and b\")\n",
    "            return True\n",
    "\n",
    "    def single_step(self, Xi, yi, m, W, b, alpha, Lambda):\n",
    "        \"\"\"Perform a single step of gradient descent.\"\"\"\n",
    "        \n",
    "        y_i = np.dot(Xi, W) + b \n",
    "        res = yi - y_i\n",
    "        \n",
    "        dJ_dW = np.dot(res, Xi)  - Lambda * W\n",
    "        dJ_db = res.mean()\n",
    "\n",
    "        W += dJ_dW * alpha / m\n",
    "        b += dJ_db * alpha\n",
    "\n",
    "        return W,b\n",
    "    \n",
    "    def fit(self, X, y,\n",
    "            epochs = DEFAULT_EPOCHS,\n",
    "            alpha = DEFAULT_ALPHA,\n",
    "            Lambda=DEFAULT_LAMBDA,\n",
    "            error_threshold = 0.001,\n",
    "            output_limit=10):\n",
    "        \"\"\"Fit the linear regression model to the given data.\n",
    "        \n",
    "        Parameter\n",
    "        ---------\n",
    "        epochs: int, default=1000\n",
    "            Number of complete iterations through X\n",
    "\n",
    "        alpha : float, default=0.01\n",
    "            Constant Learning Rate\n",
    "\n",
    "        Lambda : float, default=0.0001\n",
    "            Rate for l2 Regularization\n",
    "\n",
    "        output_limit : int, default=10\n",
    "            Number of iterations to show\n",
    "\n",
    "        Returns\n",
    "        -------\n",
    "        W : numpy.ndarray\n",
    "            The optimized weights.\n",
    "        b : numpy.longdouble\n",
    "            The optimized itercept.\n",
    "        \"\"\"\n",
    " \n",
    "        if output_limit<=0:\n",
    "            raise ValueError(\"Output limit should be greater than 0\")\n",
    "        \n",
    "        num_out = epochs//output_limit\n",
    "        np.set_printoptions(precision=4)\n",
    "        \n",
    "        m,n = X.shape\n",
    "        \n",
    "        W = np.random.rand(n)\n",
    "        b = np.random.rand()\n",
    "        y_ = np.dot(X,W) + b\n",
    "        past_cost = self.compute_cost(y,y_,Lambda,W,m)\n",
    "        self.log_current(0, num_out, output_limit, y, y_, Lambda, W, m, b) # Initial Out\n",
    "\n",
    "        try:\n",
    "            for k in range(1, epochs+1):\n",
    "                for i in range(m):\n",
    "                    W,b = self.single_step(X[i], y[i], m, W, b, alpha, Lambda)\n",
    "                \n",
    "\n",
    "\n",
    "                if k % num_out == 0:\n",
    "                    y_ = np.dot(X,W) + b\n",
    "                    self.log_current(k, num_out, output_limit, y, y_, Lambda, W, m, b)\n",
    "                \n",
    "                \n",
    "                # Inefficeint and slow to calulate these every epoch.\n",
    "                y_ = np.dot(X,W) + b\n",
    "                current_cost = self.compute_cost(y,y_,Lambda,W,m)\n",
    "                if self.convergence_test(current_cost, past_cost, error_threshold, k):\n",
    "                    return (W, b)\n",
    "                past_cost = current_cost\n",
    "\n",
    "                    \n",
    "                    \n",
    "        except KeyboardInterrupt:\n",
    "            print(f\"\\nTerminated! Returned: Weights: {W}, Bias: {b}\")\n",
    "            return (W, b)\n",
    "        return (W,b)"
   ]
  },
  {
   "cell_type": "markdown",
   "id": "5ef81f4c",
   "metadata": {},
   "source": [
    "## Usage"
   ]
  },
  {
   "cell_type": "code",
   "execution_count": 3,
   "id": "dce968dc",
   "metadata": {},
   "outputs": [
    {
     "name": "stdout",
     "output_type": "stream",
     "text": [
      "(0/10) > Epoch: 0 Cost: 3320.64809726 W: [0.5847 0.7841] b: 0.1353\n",
      "(1/10) > Epoch: 100 Cost: 2.45314503 W: [3.437 6.855] b: 53.8671\n",
      "(2/10) > Epoch: 200 Cost: 0.43652245 W: [4.6426 9.3857] b: 51.6353\n",
      "(3/10) > Epoch: 300 Cost: 0.07856247 W: [ 5.1581 10.445 ] b: 50.6954\n",
      "(4/10) > Epoch: 400 Cost: 0.01451803 W: [ 5.3786 10.8882] b: 50.2996\n",
      "\n",
      "Epoch: 453 Converged with threshold: 0.0001. Returning W and b\n"
     ]
    },
    {
     "data": {
      "text/plain": [
       "(array([ 5.4383, 11.0062]), 50.19372550284103)"
      ]
     },
     "execution_count": 3,
     "metadata": {},
     "output_type": "execute_result"
    }
   ],
   "source": [
    "m = LinearRegression()\n",
    "\n",
    "X = np.random.rand(1000,2)\n",
    "y = 5.55*X[:,0] + 11.22*X[:,1] + 50\n",
    "m.fit(X, y ,epochs= 1000, alpha = 0.1, error_threshold = 0.0001, output_limit=10)"
   ]
  },
  {
   "cell_type": "code",
   "execution_count": null,
   "id": "a0578f42",
   "metadata": {},
   "outputs": [],
   "source": []
  }
 ],
 "metadata": {
  "kernelspec": {
   "display_name": "Python 3 (ipykernel)",
   "language": "python",
   "name": "python3"
  },
  "language_info": {
   "codemirror_mode": {
    "name": "ipython",
    "version": 3
   },
   "file_extension": ".py",
   "mimetype": "text/x-python",
   "name": "python",
   "nbconvert_exporter": "python",
   "pygments_lexer": "ipython3",
   "version": "3.10.12"
  }
 },
 "nbformat": 4,
 "nbformat_minor": 5
}
