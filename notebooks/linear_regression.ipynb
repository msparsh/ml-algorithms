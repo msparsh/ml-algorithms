{
 "cells": [
  {
   "cell_type": "markdown",
   "id": "e55fa8fd",
   "metadata": {},
   "source": [
    "# Improved Implementation for Stochastic Linear Regression\n",
    "with regularization.\\\n",
    "with efficiency improvements.\\\n",
    "Recommended to check cost after convergence."
   ]
  },
  {
   "cell_type": "code",
   "execution_count": 1,
   "id": "e22de211",
   "metadata": {},
   "outputs": [],
   "source": [
    "import numpy as np"
   ]
  },
  {
   "cell_type": "code",
   "execution_count": 2,
   "id": "a92e3076-b191-47e5-84bc-04a9dd1f99fb",
   "metadata": {},
   "outputs": [],
   "source": [
    "from scripts import LinearRegression"
   ]
  },
  {
   "cell_type": "code",
   "execution_count": 3,
   "id": "29716a0a-e8e2-4bf6-b1ec-6e8f78cf8751",
   "metadata": {},
   "outputs": [
    {
     "data": {
      "text/plain": [
       "\u001b[0;31mSignature:\u001b[0m\n",
       "\u001b[0mLinearRegression\u001b[0m\u001b[0;34m.\u001b[0m\u001b[0mfit\u001b[0m\u001b[0;34m(\u001b[0m\u001b[0;34m\u001b[0m\n",
       "\u001b[0;34m\u001b[0m    \u001b[0mself\u001b[0m\u001b[0;34m,\u001b[0m\u001b[0;34m\u001b[0m\n",
       "\u001b[0;34m\u001b[0m    \u001b[0mX\u001b[0m\u001b[0;34m,\u001b[0m\u001b[0;34m\u001b[0m\n",
       "\u001b[0;34m\u001b[0m    \u001b[0my\u001b[0m\u001b[0;34m,\u001b[0m\u001b[0;34m\u001b[0m\n",
       "\u001b[0;34m\u001b[0m    \u001b[0mepochs\u001b[0m\u001b[0;34m=\u001b[0m\u001b[0;36m100\u001b[0m\u001b[0;34m,\u001b[0m\u001b[0;34m\u001b[0m\n",
       "\u001b[0;34m\u001b[0m    \u001b[0malpha\u001b[0m\u001b[0;34m=\u001b[0m\u001b[0;36m0.01\u001b[0m\u001b[0;34m,\u001b[0m\u001b[0;34m\u001b[0m\n",
       "\u001b[0;34m\u001b[0m    \u001b[0mLambda\u001b[0m\u001b[0;34m=\u001b[0m\u001b[0;36m0.0001\u001b[0m\u001b[0;34m,\u001b[0m\u001b[0;34m\u001b[0m\n",
       "\u001b[0;34m\u001b[0m    \u001b[0merror_threshold\u001b[0m\u001b[0;34m=\u001b[0m\u001b[0;36m0.001\u001b[0m\u001b[0;34m,\u001b[0m\u001b[0;34m\u001b[0m\n",
       "\u001b[0;34m\u001b[0m    \u001b[0mvalidation_size\u001b[0m\u001b[0;34m=\u001b[0m\u001b[0;36m0.2\u001b[0m\u001b[0;34m,\u001b[0m\u001b[0;34m\u001b[0m\n",
       "\u001b[0;34m\u001b[0m    \u001b[0moutput_limit\u001b[0m\u001b[0;34m=\u001b[0m\u001b[0;36m10\u001b[0m\u001b[0;34m,\u001b[0m\u001b[0;34m\u001b[0m\n",
       "\u001b[0;34m\u001b[0m\u001b[0;34m)\u001b[0m\u001b[0;34m\u001b[0m\u001b[0;34m\u001b[0m\u001b[0m\n",
       "\u001b[0;31mDocstring:\u001b[0m\n",
       "Fit the linear regression model to the given data.\n",
       "\n",
       "Parameter\n",
       "---------\n",
       "epochs: int, default=1000\n",
       "    Number of complete iterations through X\n",
       "\n",
       "alpha : float, default=0.01\n",
       "    Constant Learning Rate\n",
       "\n",
       "Lambda : float, default=0.0001\n",
       "    Rate for l2 Regularization\n",
       "\n",
       "error_threshold: float, default=0.001\n",
       "    Threshold for vCost convergence\n",
       "\n",
       "validation_size: float, default=0.2\n",
       "    Percent of data for validation, 0 <= vs < 1\n",
       "\n",
       "output_limit : int, default=10\n",
       "    Number of iterations to show\n",
       "\n",
       "Returns\n",
       "-------\n",
       "W : numpy.ndarray\n",
       "    The optimized weights.\n",
       "b : numpy.longdouble\n",
       "    The optimized intercept.\n",
       "\u001b[0;31mFile:\u001b[0m      ~/Desktop/ml-algorithms/notebooks/scripts/linear_regression.py\n",
       "\u001b[0;31mType:\u001b[0m      function"
      ]
     },
     "metadata": {},
     "output_type": "display_data"
    }
   ],
   "source": [
    "?LinearRegression.fit"
   ]
  },
  {
   "cell_type": "markdown",
   "id": "5ef81f4c",
   "metadata": {},
   "source": [
    "## Usage"
   ]
  },
  {
   "cell_type": "code",
   "execution_count": 4,
   "id": "dce968dc",
   "metadata": {},
   "outputs": [
    {
     "name": "stdout",
     "output_type": "stream",
     "text": [
      "(0/10) > Epoch: 0 cost: 3284.17263479 vCost: 3291.50451516\n",
      "(1/10) > Epoch: 100 cost: 0.53181002 vCost: 0.63992793\n",
      "(2/10) > Epoch: 200 cost: 0.02491143 vCost: 0.02997905\n",
      "(3/10) > Epoch: 300 cost: 0.00138049 vCost: 0.00165955\n",
      "       * Epoch: 363 vCost: 0.00034998\n",
      "\n",
      "Epoch 363 > vCost Converged with threshold 1e-05. Or performance degraded.\n"
     ]
    },
    {
     "data": {
      "text/plain": [
       "(array([ 5.5267, 11.1665]), 50.034201252729396)"
      ]
     },
     "execution_count": 4,
     "metadata": {},
     "output_type": "execute_result"
    }
   ],
   "source": [
    "m = LinearRegression()\n",
    "X = np.random.rand(1000,2)\n",
    "y = 5.55*X[:,0] + 11.22*X[:,1] + 50\n",
    "m.fit(X, y ,epochs= 1000, alpha = 0.2, error_threshold = 0.00001, output_limit=10)"
   ]
  },
  {
   "cell_type": "markdown",
   "id": "df39efae",
   "metadata": {},
   "source": [
    " "
   ]
  },
  {
   "cell_type": "code",
   "execution_count": 5,
   "id": "3213784a",
   "metadata": {},
   "outputs": [],
   "source": [
    "from sklearn.datasets import make_regression"
   ]
  },
  {
   "cell_type": "code",
   "execution_count": 6,
   "id": "17f50fb5",
   "metadata": {},
   "outputs": [
    {
     "name": "stdout",
     "output_type": "stream",
     "text": [
      "(0/10) > Epoch: 0 cost: 54843.40469729 vCost: 61494.34831012\n",
      "(1/10) > Epoch: 10 cost: 9.19630793 vCost: 9.26865817\n",
      "(2/10) > Epoch: 20 cost: 0.00842255 vCost: 0.00841395\n",
      "       * Epoch: 28 vCost: 0.00442379\n",
      "\n",
      "Epoch 28 > vCost Converged with threshold 0.01. Or performance degraded.\n"
     ]
    },
    {
     "data": {
      "text/plain": [
       "(array([6.9366e+01, 6.3152e-04, 6.1716e+01, 6.7187e+01, 2.8868e+01,\n",
       "        8.4267e+01, 7.5727e+01, 1.7868e+01, 6.1031e+01, 3.5947e+00,\n",
       "        9.4115e+01, 4.1595e+01, 8.8472e+01, 1.7439e+01, 3.9721e+00,\n",
       "        3.3800e+00, 7.0854e+01, 3.0207e+01, 2.0141e+01, 2.9645e+01]),\n",
       " -0.0157228756082394)"
      ]
     },
     "execution_count": 6,
     "metadata": {},
     "output_type": "execute_result"
    }
   ],
   "source": [
    "X, y = make_regression(n_samples=1000,n_features=20, n_informative=19)\n",
    "m = LinearRegression()\n",
    "m.fit(X, y ,epochs= 100, alpha = 0.5, error_threshold = 0.01, output_limit=10)"
   ]
  },
  {
   "cell_type": "markdown",
   "id": "04ef96b0",
   "metadata": {},
   "source": [
    " "
   ]
  },
  {
   "cell_type": "code",
   "execution_count": 16,
   "id": "7070fa5d",
   "metadata": {},
   "outputs": [],
   "source": [
    "from sklearn.datasets import fetch_california_housing"
   ]
  },
  {
   "cell_type": "code",
   "execution_count": 26,
   "id": "48319847-5c99-43d6-b88e-68a0c6857b8f",
   "metadata": {},
   "outputs": [],
   "source": [
    "california = fetch_california_housing(as_frame=True)"
   ]
  },
  {
   "cell_type": "code",
   "execution_count": 42,
   "id": "488a8b79",
   "metadata": {},
   "outputs": [],
   "source": [
    "X,y = california[\"data\"], california[\"target\"]\n",
    "X,y = X.to_numpy(), y.to_numpy()"
   ]
  },
  {
   "cell_type": "code",
   "execution_count": 38,
   "id": "720a780d-6940-4bab-980b-04ac5b5f3263",
   "metadata": {},
   "outputs": [],
   "source": [
    "from sklearn.preprocessing import StandardScaler\n",
    "scaler = StandardScaler()\n",
    "X = scaler.fit_transform(X)"
   ]
  },
  {
   "cell_type": "code",
   "execution_count": 43,
   "id": "19fca112",
   "metadata": {},
   "outputs": [
    {
     "name": "stdout",
     "output_type": "stream",
     "text": [
      "(0/10) > Epoch: 0 cost: 27655.30556463 vCost: 25204.06381210\n",
      "(1/10) > Epoch: 2 cost: 60.39310731 vCost: 64.45519541\n",
      "(2/10) > Epoch: 4 cost: 55.16757021 vCost: 57.38310832\n",
      "(3/10) > Epoch: 6 cost: 53.15122585 vCost: 55.03569282\n",
      "(4/10) > Epoch: 8 cost: 51.26560491 vCost: 53.03803963\n",
      "(5/10) > Epoch: 10 cost: 49.45786300 vCost: 51.14868625\n",
      "(6/10) > Epoch: 12 cost: 47.72518217 vCost: 49.33891925\n",
      "(7/10) > Epoch: 14 cost: 46.06465769 vCost: 47.60234180\n",
      "(8/10) > Epoch: 16 cost: 44.47334082 vCost: 45.93556844\n",
      "(9/10) > Epoch: 18 cost: 42.94837778 vCost: 44.33572240\n",
      "(10/10) > Epoch: 20 cost: 41.48702775 vCost: 42.80009359\n",
      "(11/10) > Epoch: 22 cost: 40.08666146 vCost: 41.32608826\n",
      "(12/10) > Epoch: 24 cost: 38.74475708 vCost: 39.91121829\n"
     ]
    },
    {
     "data": {
      "text/plain": [
       "(array([0.8619, 0.4953, 0.6694, 0.987 , 0.0027, 0.0409, 1.0096, 0.5796]),\n",
       " 10.683817879341833)"
      ]
     },
     "execution_count": 43,
     "metadata": {},
     "output_type": "execute_result"
    }
   ],
   "source": [
    "m = LinearRegression()\n",
    "m.fit(X, y ,epochs= 25, alpha = 0.0001, error_threshold = 1/1000, validation_size=1/3 ,output_limit=10)"
   ]
  },
  {
   "cell_type": "code",
   "execution_count": 44,
   "id": "db0092a0-6451-4134-a32f-a985f7387872",
   "metadata": {},
   "outputs": [
    {
     "data": {
      "text/plain": [
       "\u001b[0;31mSignature:\u001b[0m       \u001b[0mnp\u001b[0m\u001b[0;34m.\u001b[0m\u001b[0mclip\u001b[0m\u001b[0;34m(\u001b[0m\u001b[0ma\u001b[0m\u001b[0;34m,\u001b[0m \u001b[0ma_min\u001b[0m\u001b[0;34m,\u001b[0m \u001b[0ma_max\u001b[0m\u001b[0;34m,\u001b[0m \u001b[0mout\u001b[0m\u001b[0;34m=\u001b[0m\u001b[0;32mNone\u001b[0m\u001b[0;34m,\u001b[0m \u001b[0;34m**\u001b[0m\u001b[0mkwargs\u001b[0m\u001b[0;34m)\u001b[0m\u001b[0;34m\u001b[0m\u001b[0;34m\u001b[0m\u001b[0m\n",
       "\u001b[0;31mCall signature:\u001b[0m  \u001b[0mnp\u001b[0m\u001b[0;34m.\u001b[0m\u001b[0mclip\u001b[0m\u001b[0;34m(\u001b[0m\u001b[0;34m*\u001b[0m\u001b[0margs\u001b[0m\u001b[0;34m,\u001b[0m \u001b[0;34m**\u001b[0m\u001b[0mkwargs\u001b[0m\u001b[0;34m)\u001b[0m\u001b[0;34m\u001b[0m\u001b[0;34m\u001b[0m\u001b[0m\n",
       "\u001b[0;31mType:\u001b[0m            _ArrayFunctionDispatcher\n",
       "\u001b[0;31mString form:\u001b[0m     <function clip at 0x7e9ec00537e0>\n",
       "\u001b[0;31mFile:\u001b[0m            ~/miniconda3/envs/ml-algorithms/lib/python3.12/site-packages/numpy/core/fromnumeric.py\n",
       "\u001b[0;31mDocstring:\u001b[0m      \n",
       "Clip (limit) the values in an array.\n",
       "\n",
       "Given an interval, values outside the interval are clipped to\n",
       "the interval edges.  For example, if an interval of ``[0, 1]``\n",
       "is specified, values smaller than 0 become 0, and values larger\n",
       "than 1 become 1.\n",
       "\n",
       "Equivalent to but faster than ``np.minimum(a_max, np.maximum(a, a_min))``.\n",
       "\n",
       "No check is performed to ensure ``a_min < a_max``.\n",
       "\n",
       "Parameters\n",
       "----------\n",
       "a : array_like\n",
       "    Array containing elements to clip.\n",
       "a_min, a_max : array_like or None\n",
       "    Minimum and maximum value. If ``None``, clipping is not performed on\n",
       "    the corresponding edge. Only one of `a_min` and `a_max` may be\n",
       "    ``None``. Both are broadcast against `a`.\n",
       "out : ndarray, optional\n",
       "    The results will be placed in this array. It may be the input\n",
       "    array for in-place clipping.  `out` must be of the right shape\n",
       "    to hold the output.  Its type is preserved.\n",
       "**kwargs\n",
       "    For other keyword-only arguments, see the\n",
       "    :ref:`ufunc docs <ufuncs.kwargs>`.\n",
       "\n",
       "    .. versionadded:: 1.17.0\n",
       "\n",
       "Returns\n",
       "-------\n",
       "clipped_array : ndarray\n",
       "    An array with the elements of `a`, but where values\n",
       "    < `a_min` are replaced with `a_min`, and those > `a_max`\n",
       "    with `a_max`.\n",
       "\n",
       "See Also\n",
       "--------\n",
       ":ref:`ufuncs-output-type`\n",
       "\n",
       "Notes\n",
       "-----\n",
       "When `a_min` is greater than `a_max`, `clip` returns an\n",
       "array in which all values are equal to `a_max`,\n",
       "as shown in the second example.\n",
       "\n",
       "Examples\n",
       "--------\n",
       ">>> a = np.arange(10)\n",
       ">>> a\n",
       "array([0, 1, 2, 3, 4, 5, 6, 7, 8, 9])\n",
       ">>> np.clip(a, 1, 8)\n",
       "array([1, 1, 2, 3, 4, 5, 6, 7, 8, 8])\n",
       ">>> np.clip(a, 8, 1)\n",
       "array([1, 1, 1, 1, 1, 1, 1, 1, 1, 1])\n",
       ">>> np.clip(a, 3, 6, out=a)\n",
       "array([3, 3, 3, 3, 4, 5, 6, 6, 6, 6])\n",
       ">>> a\n",
       "array([3, 3, 3, 3, 4, 5, 6, 6, 6, 6])\n",
       ">>> a = np.arange(10)\n",
       ">>> a\n",
       "array([0, 1, 2, 3, 4, 5, 6, 7, 8, 9])\n",
       ">>> np.clip(a, [3, 4, 1, 1, 1, 4, 4, 4, 4, 4], 8)\n",
       "array([3, 4, 2, 3, 4, 5, 6, 7, 8, 8])\n",
       "\u001b[0;31mClass docstring:\u001b[0m\n",
       "Class to wrap functions with checks for __array_function__ overrides.\n",
       "\n",
       "All arguments are required, and can only be passed by position.\n",
       "\n",
       "Parameters\n",
       "----------\n",
       "dispatcher : function or None\n",
       "    The dispatcher function that returns a single sequence-like object\n",
       "    of all arguments relevant.  It must have the same signature (except\n",
       "    the default values) as the actual implementation.\n",
       "    If ``None``, this is a ``like=`` dispatcher and the\n",
       "    ``_ArrayFunctionDispatcher`` must be called with ``like`` as the\n",
       "    first (additional and positional) argument.\n",
       "implementation : function\n",
       "    Function that implements the operation on NumPy arrays without\n",
       "    overrides.  Arguments passed calling the ``_ArrayFunctionDispatcher``\n",
       "    will be forwarded to this (and the ``dispatcher``) as if using\n",
       "    ``*args, **kwargs``.\n",
       "\n",
       "Attributes\n",
       "----------\n",
       "_implementation : function\n",
       "    The original implementation passed in."
      ]
     },
     "metadata": {},
     "output_type": "display_data"
    }
   ],
   "source": [
    "?np.clip"
   ]
  },
  {
   "cell_type": "code",
   "execution_count": null,
   "id": "c92548d5-97af-4b92-ac10-9ea8258a431e",
   "metadata": {},
   "outputs": [],
   "source": []
  }
 ],
 "metadata": {
  "kernelspec": {
   "display_name": "Python 3 (ipykernel)",
   "language": "python",
   "name": "python3"
  },
  "language_info": {
   "codemirror_mode": {
    "name": "ipython",
    "version": 3
   },
   "file_extension": ".py",
   "mimetype": "text/x-python",
   "name": "python",
   "nbconvert_exporter": "python",
   "pygments_lexer": "ipython3",
   "version": "3.12.3"
  }
 },
 "nbformat": 4,
 "nbformat_minor": 5
}
