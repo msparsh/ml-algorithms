{
 "cells": [
  {
   "cell_type": "markdown",
   "id": "e55fa8fd",
   "metadata": {},
   "source": [
    "# Improved Implementation for Stochastic Linear Regression\n",
    "with regularization.\\\n",
    "with efficiency improvements.\\\n",
    "Recommended to check cost after convergence."
   ]
  },
  {
   "cell_type": "code",
   "execution_count": 1,
   "id": "e22de211",
   "metadata": {},
   "outputs": [],
   "source": [
    "import numpy as np"
   ]
  },
  {
   "cell_type": "markdown",
   "id": "8195ef49",
   "metadata": {},
   "source": [
    "## Implementation"
   ]
  },
  {
   "cell_type": "code",
   "execution_count": 2,
   "id": "ec60f9f2",
   "metadata": {},
   "outputs": [],
   "source": [
    "class LinearRegression:\n",
    "    \"\"\"Linear regression model with L2 regularization.\"\"\"\n",
    "    \n",
    "    DEFAULT_EPOCHS = 1000\n",
    "    DEFAULT_ALPHA = 0.01\n",
    "    DEFAULT_LAMBDA = 0.0001\n",
    "    DEFAULT_ERROR_THRESHOLD = 0.001\n",
    "    DEFAULT_VALIDATION_SIZE = 0.2\n",
    "\n",
    "\n",
    "    def compute_cost(self, y, y_, Lambda, W, m):\n",
    "        \"\"\"Compute cost function with L2 regularization.\"\"\"\n",
    "        return np.mean((y-y_)**2) + ((np.sum(W**2)) * Lambda/(2*m))\n",
    "    \n",
    "    \n",
    "    def validation_split(self, X, y, validation_size=DEFAULT_VALIDATION_SIZE):\n",
    "        \"\"\"Splits X and y into train and validatation set\"\"\"\n",
    "        val = int(X.shape[0] * (1 - validation_size))\n",
    "        return X[:val], y[:val], X[val:], y[val:]\n",
    "    \n",
    "    \n",
    "    def log_current(self, k, num_out, output_limit,cost, vcost, alter=False):\n",
    "        \"\"\"Log current training information. Alter for exit print.\"\"\"\n",
    "        if alter: # For printing at arbitrary epoch, w vCost only\n",
    "            print(f\"       * Epoch: {k}\",\n",
    "                  f\"vCost: {vcost:.8f}\")\n",
    "            return None\n",
    "            \n",
    "        print(f\"({k//num_out}/{output_limit}) > Epoch: {k}\",\n",
    "              f\"cost: {cost:.8f}\",\n",
    "              f\"vCost: {vcost:.8f}\")\n",
    "        \n",
    "    \n",
    "    def convergence_test(self, current_cost, past_cost, error_threshold, k):\n",
    "        # Simple convergence test\n",
    "        if  (past_cost - current_cost <= error_threshold):\n",
    "            self.c+=1\n",
    "            if self.c >= 10:\n",
    "                self.log_current(k=k, num_out=0, output_limit=0, cost=0, vcost=current_cost, alter=True)\n",
    "                print(f\"\\nEpoch {k} > vCost Converged with threshold {error_threshold}. Or performance degraded.\")\n",
    "                self.EXIT = True # Also returns in case of validation perf degradation (overfit)\n",
    "                \n",
    "        else: \n",
    "            self.c=0 # For counting consecutive iterations of convergence\n",
    "\n",
    "    def single_step(self, Xi, yi, m, W, b, alpha, Lambda):\n",
    "        \"\"\"Perform a single step of gradient descent.\"\"\"\n",
    "        \n",
    "        y_i = np.dot(Xi, W) + b \n",
    "        res = yi - y_i\n",
    "        \n",
    "        dJ_dW = np.dot(res, Xi)  - Lambda * W\n",
    "        dJ_db = res.mean()\n",
    "\n",
    "        W += dJ_dW * alpha / m\n",
    "        b += dJ_db * alpha\n",
    "\n",
    "        return W,b\n",
    "    \n",
    "    def fit(self, X, y,\n",
    "            epochs = DEFAULT_EPOCHS,\n",
    "            alpha = DEFAULT_ALPHA,\n",
    "            Lambda=DEFAULT_LAMBDA,\n",
    "            error_threshold = DEFAULT_ERROR_THRESHOLD,\n",
    "            validation_size = DEFAULT_VALIDATION_SIZE,\n",
    "            output_limit=10):\n",
    "        \"\"\"Fit the linear regression model to the given data.\n",
    "        \n",
    "        Parameter\n",
    "        ---------\n",
    "        epochs: int, default=1000\n",
    "            Number of complete iterations through X\n",
    "\n",
    "        alpha : float, default=0.01\n",
    "            Constant Learning Rate\n",
    "\n",
    "        Lambda : float, default=0.0001\n",
    "            Rate for l2 Regularization\n",
    "        \n",
    "        error_threshold: float, default=0.001\n",
    "            Threshold for vCost convergence\n",
    "        \n",
    "        validation_size: float, default=0.2\n",
    "            Percent of data for validation, 0 <= vs < 1\n",
    "\n",
    "        output_limit : int, default=10\n",
    "            Number of iterations to show\n",
    "\n",
    "        Returns\n",
    "        -------\n",
    "        W : numpy.ndarray\n",
    "            The optimized weights.\n",
    "        b : numpy.longdouble\n",
    "            The optimized itercept.\n",
    "        \"\"\"\n",
    " \n",
    "        if output_limit <= 0:\n",
    "            raise ValueError(\"Output limit should be greater than 0\")\n",
    "        \n",
    "        num_out = epochs//output_limit\n",
    "        np.set_printoptions(precision = 4)\n",
    "        \n",
    "        X, y, X_val, y_val = self.validation_split(X, y, validation_size)\n",
    "        m, n = X.shape\n",
    "        \n",
    "        W = np.random.rand(n)\n",
    "        b = np.random.rand()\n",
    "        \n",
    "        y_ = np.dot(X, W) + b\n",
    "        y_val_ = np.dot(X_val, W) + b\n",
    "\n",
    "        cost = self.compute_cost(y, y_, Lambda, W, m)\n",
    "        past_cost = self.compute_cost(y_val, y_val_, Lambda, W, m)\n",
    "        \n",
    "        self.c = 0 # to count convergence for consecutive iterations\n",
    "        self.EXIT = False # Exit flag for convergence\n",
    "        \n",
    "        self.log_current(0, num_out, output_limit, cost, past_cost) # Initial Out\n",
    "\n",
    "        try:\n",
    "            for k in range(1, epochs+1):\n",
    "                # SGD\n",
    "                for i in range(m):\n",
    "                    W,b = self.single_step(X[i], y[i], m, W, b, alpha, Lambda)\n",
    "                # SGD\n",
    "                \n",
    "                \n",
    "                # LOG OUTPUT\n",
    "                if k % num_out == 0:\n",
    "                    y_ = np.dot(X, W) + b\n",
    "                    y_val_ = np.dot(X_val, W) + b\n",
    "                    \n",
    "                    cost = self.compute_cost(y, y_, Lambda, W, m)\n",
    "                    vcost = self.compute_cost(y_val, y_val_, Lambda, W, m)\n",
    "                    \n",
    "                    self.log_current(k, num_out, output_limit, cost, vcost)\n",
    "                # LOG OUTPUT\n",
    "                \n",
    "                \n",
    "                # CONVERGENCE\n",
    "                y_val_ = np.dot(X_val, W) + b\n",
    "                current_cost = self.compute_cost(y_val, y_val_, Lambda, W, m) # vCost\n",
    "                \n",
    "                self.convergence_test(current_cost, past_cost, error_threshold, k)\n",
    "                \n",
    "                if self.EXIT:\n",
    "                    return (W, b)\n",
    "                \n",
    "                past_cost = current_cost\n",
    "                # CONVERGENCE\n",
    "\n",
    "                    \n",
    "        # CTRL C            \n",
    "        except KeyboardInterrupt:\n",
    "            self.log_current(k=k, num_out=0, output_limit=0, cost=0, vcost=current_cost, alter=True)\n",
    "            print(f\"\\nTerminated! Returned: Weights: {W}, Bias: {b}\")\n",
    "            return (W, b)\n",
    "        # CTRL C\n",
    "        \n",
    "        \n",
    "        return (W, b)"
   ]
  },
  {
   "cell_type": "markdown",
   "id": "5ef81f4c",
   "metadata": {},
   "source": [
    "## Usage"
   ]
  },
  {
   "cell_type": "code",
   "execution_count": 3,
   "id": "dce968dc",
   "metadata": {},
   "outputs": [
    {
     "name": "stdout",
     "output_type": "stream",
     "text": [
      "(0/10) > Epoch: 0 cost: 3292.26205816 vCost: 3300.62779780\n",
      "(1/10) > Epoch: 100 cost: 0.57985605 vCost: 0.56633012\n",
      "(2/10) > Epoch: 200 cost: 0.02371749 vCost: 0.02311546\n",
      "(3/10) > Epoch: 300 cost: 0.00118735 vCost: 0.00115551\n",
      "       * Epoch: 349 vCost: 0.00033135\n",
      "\n",
      "Epoch 349 > vCost Converged with threshold 1e-05. Or performance degraded.\n"
     ]
    },
    {
     "data": {
      "text/plain": [
       "(array([ 5.5224, 11.1695]), 50.030962700252616)"
      ]
     },
     "execution_count": 3,
     "metadata": {},
     "output_type": "execute_result"
    }
   ],
   "source": [
    "m = LinearRegression()\n",
    "X = np.random.rand(1000,2)\n",
    "y = 5.55*X[:,0] + 11.22*X[:,1] + 50\n",
    "m.fit(X, y ,epochs= 1000, alpha = 0.2, error_threshold = 0.00001, output_limit=10)"
   ]
  },
  {
   "cell_type": "markdown",
   "id": "df39efae",
   "metadata": {},
   "source": [
    " "
   ]
  },
  {
   "cell_type": "code",
   "execution_count": 4,
   "id": "3213784a",
   "metadata": {},
   "outputs": [],
   "source": [
    "from sklearn.datasets import make_regression"
   ]
  },
  {
   "cell_type": "code",
   "execution_count": 5,
   "id": "17f50fb5",
   "metadata": {},
   "outputs": [
    {
     "name": "stdout",
     "output_type": "stream",
     "text": [
      "(0/10) > Epoch: 0 cost: 57864.10626818 vCost: 54437.60538561\n",
      "(1/10) > Epoch: 10 cost: 17.26988229 vCost: 17.59787839\n",
      "(2/10) > Epoch: 20 cost: 0.01519120 vCost: 0.01551065\n",
      "       * Epoch: 29 vCost: 0.00637328\n",
      "\n",
      "Epoch 29 > vCost Converged with threshold 0.01. Or performance degraded.\n"
     ]
    },
    {
     "data": {
      "text/plain": [
       "(array([4.7264e+01, 3.8149e+01, 6.6247e+01, 1.0610e+01, 1.4063e+00,\n",
       "        9.7339e+00, 9.4993e+01, 5.5637e+01, 7.6699e+01, 7.3682e+00,\n",
       "        7.1376e+00, 8.0231e+01, 9.3040e+01, 1.0579e+01, 6.2135e+01,\n",
       "        2.0753e-03, 7.3065e+01, 4.7029e+01, 7.9275e+01, 4.8127e+01]),\n",
       " -0.04081532634282112)"
      ]
     },
     "execution_count": 5,
     "metadata": {},
     "output_type": "execute_result"
    }
   ],
   "source": [
    "X, y = make_regression(n_samples=1000,n_features=20, n_informative=19)\n",
    "m = LinearRegression()\n",
    "m.fit(X, y ,epochs= 100, alpha = 0.5, error_threshold = 0.01, output_limit=10)"
   ]
  },
  {
   "cell_type": "markdown",
   "id": "04ef96b0",
   "metadata": {},
   "source": [
    " "
   ]
  },
  {
   "cell_type": "code",
   "execution_count": 6,
   "id": "7070fa5d",
   "metadata": {},
   "outputs": [],
   "source": [
    "from sklearn.datasets import fetch_california_housing"
   ]
  },
  {
   "cell_type": "code",
   "execution_count": 7,
   "id": "488a8b79",
   "metadata": {},
   "outputs": [],
   "source": [
    "X,y = fetch_california_housing(return_X_y=True)\n",
    "X = X[:1000]\n",
    "y = y[:1000]"
   ]
  },
  {
   "cell_type": "code",
   "execution_count": 8,
   "id": "19fca112",
   "metadata": {},
   "outputs": [
    {
     "name": "stdout",
     "output_type": "stream",
     "text": [
      "(0/10) > Epoch: 0 cost: 6243.75563907 vCost: 27799.18435143\n",
      "(1/10) > Epoch: 100 cost: 21.91755759 vCost: 28.41120184\n",
      "(2/10) > Epoch: 200 cost: 7.10794364 vCost: 10.60002698\n",
      "(3/10) > Epoch: 300 cost: 3.19015635 vCost: 5.32289154\n",
      "(4/10) > Epoch: 400 cost: 2.12917374 vCost: 3.60590534\n",
      "(5/10) > Epoch: 500 cost: 1.82019433 vCost: 2.96388810\n",
      "(6/10) > Epoch: 600 cost: 1.71095421 vCost: 2.67676470\n",
      "(7/10) > Epoch: 700 cost: 1.65606817 vCost: 2.52062848\n",
      "       * Epoch: 762 vCost: 2.45352610\n",
      "\n",
      "Epoch 762 > vCost Converged with threshold 0.001. Or performance degraded.\n"
     ]
    },
    {
     "data": {
      "text/plain": [
       "(array([ 4.2867e-01, -9.2242e-03,  5.9767e-01,  1.2986e-01,  2.7606e-04,\n",
       "         8.3591e-01,  5.0878e-01,  2.2545e-01]),\n",
       " 3.7203317223511996)"
      ]
     },
     "execution_count": 8,
     "metadata": {},
     "output_type": "execute_result"
    }
   ],
   "source": [
    "m = LinearRegression()\n",
    "m.fit(X, y ,epochs= 1000, alpha = 0.0001, error_threshold = 1/1000, validation_size=1/3 ,output_limit=10)"
   ]
  }
 ],
 "metadata": {
  "kernelspec": {
   "display_name": "Python 3 (ipykernel)",
   "language": "python",
   "name": "python3"
  },
  "language_info": {
   "codemirror_mode": {
    "name": "ipython",
    "version": 3
   },
   "file_extension": ".py",
   "mimetype": "text/x-python",
   "name": "python",
   "nbconvert_exporter": "python",
   "pygments_lexer": "ipython3",
   "version": "3.10.12"
  }
 },
 "nbformat": 4,
 "nbformat_minor": 5
}
