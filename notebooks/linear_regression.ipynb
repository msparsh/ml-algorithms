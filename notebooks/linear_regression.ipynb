{
 "cells": [
  {
   "cell_type": "markdown",
   "id": "e55fa8fd",
   "metadata": {},
   "source": [
    "# Improved Implementation for Stochastic Linear Regression\n",
    "with regularization.\\\n",
    "with efficiency improvements.\\\n",
    "Recommended to check cost after convergence."
   ]
  },
  {
   "cell_type": "code",
   "execution_count": 1,
   "id": "e22de211",
   "metadata": {},
   "outputs": [],
   "source": [
    "import numpy as np"
   ]
  },
  {
   "cell_type": "code",
   "execution_count": 2,
   "id": "a92e3076-b191-47e5-84bc-04a9dd1f99fb",
   "metadata": {},
   "outputs": [],
   "source": [
    "from scripts.linear_regression import LinearRegression"
   ]
  },
  {
   "cell_type": "code",
   "execution_count": 3,
   "id": "29716a0a-e8e2-4bf6-b1ec-6e8f78cf8751",
   "metadata": {},
   "outputs": [
    {
     "data": {
      "text/plain": [
       "\u001b[0;31mSignature:\u001b[0m\n",
       "\u001b[0mLinearRegression\u001b[0m\u001b[0;34m.\u001b[0m\u001b[0mfit\u001b[0m\u001b[0;34m(\u001b[0m\u001b[0;34m\u001b[0m\n",
       "\u001b[0;34m\u001b[0m    \u001b[0mself\u001b[0m\u001b[0;34m,\u001b[0m\u001b[0;34m\u001b[0m\n",
       "\u001b[0;34m\u001b[0m    \u001b[0mX\u001b[0m\u001b[0;34m,\u001b[0m\u001b[0;34m\u001b[0m\n",
       "\u001b[0;34m\u001b[0m    \u001b[0my\u001b[0m\u001b[0;34m,\u001b[0m\u001b[0;34m\u001b[0m\n",
       "\u001b[0;34m\u001b[0m    \u001b[0mepochs\u001b[0m\u001b[0;34m=\u001b[0m\u001b[0;36m100\u001b[0m\u001b[0;34m,\u001b[0m\u001b[0;34m\u001b[0m\n",
       "\u001b[0;34m\u001b[0m    \u001b[0malpha\u001b[0m\u001b[0;34m=\u001b[0m\u001b[0;36m0.01\u001b[0m\u001b[0;34m,\u001b[0m\u001b[0;34m\u001b[0m\n",
       "\u001b[0;34m\u001b[0m    \u001b[0mLambda\u001b[0m\u001b[0;34m=\u001b[0m\u001b[0;36m0.0001\u001b[0m\u001b[0;34m,\u001b[0m\u001b[0;34m\u001b[0m\n",
       "\u001b[0;34m\u001b[0m    \u001b[0merror_threshold\u001b[0m\u001b[0;34m=\u001b[0m\u001b[0;36m0.001\u001b[0m\u001b[0;34m,\u001b[0m\u001b[0;34m\u001b[0m\n",
       "\u001b[0;34m\u001b[0m    \u001b[0mvalidation_size\u001b[0m\u001b[0;34m=\u001b[0m\u001b[0;36m0.2\u001b[0m\u001b[0;34m,\u001b[0m\u001b[0;34m\u001b[0m\n",
       "\u001b[0;34m\u001b[0m    \u001b[0moutput_limit\u001b[0m\u001b[0;34m=\u001b[0m\u001b[0;36m10\u001b[0m\u001b[0;34m,\u001b[0m\u001b[0;34m\u001b[0m\n",
       "\u001b[0;34m\u001b[0m\u001b[0;34m)\u001b[0m\u001b[0;34m\u001b[0m\u001b[0;34m\u001b[0m\u001b[0m\n",
       "\u001b[0;31mDocstring:\u001b[0m\n",
       "Fit the linear regression model to the given data.\n",
       "\n",
       "Parameter\n",
       "---------\n",
       "epochs: int, default=1000\n",
       "    Number of complete iterations through X\n",
       "\n",
       "alpha : float, default=0.01\n",
       "    Constant Learning Rate\n",
       "\n",
       "Lambda : float, default=0.0001\n",
       "    Rate for l2 Regularization\n",
       "\n",
       "error_threshold: float, default=0.001\n",
       "    Threshold for vCost convergence\n",
       "\n",
       "validation_size: float, default=0.2\n",
       "    Percent of data for validation, 0 <= vs < 1\n",
       "\n",
       "output_limit : int, default=10\n",
       "    Number of iterations to show\n",
       "\n",
       "Returns\n",
       "-------\n",
       "W : numpy.ndarray\n",
       "    The optimized weights.\n",
       "b : numpy.longdouble\n",
       "    The optimized intercept.\n",
       "\u001b[0;31mFile:\u001b[0m      ~/Desktop/ml-algorithms/notebooks/scripts/linear_regression.py\n",
       "\u001b[0;31mType:\u001b[0m      function"
      ]
     },
     "metadata": {},
     "output_type": "display_data"
    }
   ],
   "source": [
    "?LinearRegression.fit"
   ]
  },
  {
   "cell_type": "markdown",
   "id": "5ef81f4c",
   "metadata": {},
   "source": [
    "## Usage"
   ]
  },
  {
   "cell_type": "code",
   "execution_count": 4,
   "id": "dce968dc",
   "metadata": {},
   "outputs": [
    {
     "name": "stdout",
     "output_type": "stream",
     "text": [
      "(0/10) > Epoch: 0 cost: 3290.88951321 vCost: 3292.58096256\n",
      "(1/10) > Epoch: 100 cost: 0.60022780 vCost: 0.66980475\n",
      "(2/10) > Epoch: 200 cost: 0.02596417 vCost: 0.02915099\n",
      "(3/10) > Epoch: 300 cost: 0.00135797 vCost: 0.00153047\n",
      "       * Epoch: 360 vCost: 0.00034356\n",
      "\n",
      "Epoch 360 > vCost Converged with threshold 1e-05. Or performance degraded.\n"
     ]
    },
    {
     "data": {
      "text/plain": [
       "(array([ 5.5235, 11.1719]), 50.04508499125764)"
      ]
     },
     "execution_count": 4,
     "metadata": {},
     "output_type": "execute_result"
    }
   ],
   "source": [
    "m = LinearRegression()\n",
    "X = np.random.rand(1000,2)\n",
    "y = 5.55*X[:,0] + 11.22*X[:,1] + 50\n",
    "m.fit(X, y ,epochs= 1000, alpha = 0.2, error_threshold = 0.00001, output_limit=10)"
   ]
  },
  {
   "cell_type": "markdown",
   "id": "df39efae",
   "metadata": {},
   "source": [
    " "
   ]
  },
  {
   "cell_type": "code",
   "execution_count": 5,
   "id": "3213784a",
   "metadata": {},
   "outputs": [],
   "source": [
    "from sklearn.datasets import make_regression"
   ]
  },
  {
   "cell_type": "code",
   "execution_count": 6,
   "id": "17f50fb5",
   "metadata": {},
   "outputs": [
    {
     "name": "stdout",
     "output_type": "stream",
     "text": [
      "(0/10) > Epoch: 0 cost: 66201.18675244 vCost: 67411.43261039\n",
      "(1/10) > Epoch: 10 cost: 7.31509916 vCost: 7.76301295\n",
      "(2/10) > Epoch: 20 cost: 0.00827110 vCost: 0.00844575\n",
      "       * Epoch: 28 vCost: 0.00515609\n",
      "\n",
      "Epoch 28 > vCost Converged with threshold 0.01. Or performance degraded.\n"
     ]
    },
    {
     "data": {
      "text/plain": [
       "(array([1.6202e-03, 3.6319e+01, 8.0540e+01, 8.9729e+01, 2.0123e+00,\n",
       "        9.0274e+01, 7.6121e+01, 5.3553e+01, 1.4814e+01, 8.5510e+01,\n",
       "        1.0999e+01, 1.8179e+01, 5.9873e+01, 7.0130e+01, 5.1684e+01,\n",
       "        9.4293e+01, 2.0486e+01, 3.1294e+01, 3.2769e+01, 6.8133e+01]),\n",
       " -0.013485729993408191)"
      ]
     },
     "execution_count": 6,
     "metadata": {},
     "output_type": "execute_result"
    }
   ],
   "source": [
    "X, y = make_regression(n_samples=1000,n_features=20, n_informative=19)\n",
    "m = LinearRegression()\n",
    "m.fit(X, y ,epochs= 100, alpha = 0.5, error_threshold = 0.01, output_limit=10)"
   ]
  },
  {
   "cell_type": "markdown",
   "id": "04ef96b0",
   "metadata": {},
   "source": [
    " "
   ]
  },
  {
   "cell_type": "code",
   "execution_count": 7,
   "id": "7070fa5d",
   "metadata": {},
   "outputs": [],
   "source": [
    "from sklearn.datasets import fetch_california_housing"
   ]
  },
  {
   "cell_type": "code",
   "execution_count": 8,
   "id": "488a8b79",
   "metadata": {},
   "outputs": [],
   "source": [
    "X,y = fetch_california_housing(return_X_y=True)\n",
    "X = X[:1000]\n",
    "y = y[:1000]"
   ]
  },
  {
   "cell_type": "code",
   "execution_count": 9,
   "id": "19fca112",
   "metadata": {},
   "outputs": [
    {
     "name": "stdout",
     "output_type": "stream",
     "text": [
      "(0/10) > Epoch: 0 cost: 26622.88485666 vCost: 72914.10736218\n",
      "(1/10) > Epoch: 100 cost: 10.06995948 vCost: 13.77101287\n",
      "(2/10) > Epoch: 200 cost: 3.90297015 vCost: 6.00731887\n",
      "(3/10) > Epoch: 300 cost: 2.23724824 vCost: 3.59325967\n",
      "(4/10) > Epoch: 400 cost: 1.76365068 vCost: 2.74865372\n",
      "(5/10) > Epoch: 500 cost: 1.60991848 vCost: 2.40157684\n",
      "(6/10) > Epoch: 600 cost: 1.54441812 vCost: 2.22941997\n",
      "       * Epoch: 664 vCost: 2.15865535\n",
      "\n",
      "Epoch 664 > vCost Converged with threshold 0.001. Or performance degraded.\n"
     ]
    },
    {
     "data": {
      "text/plain": [
       "(array([ 5.7298e-01, -2.5039e-03,  3.0372e-01,  7.1983e-01,  2.6108e-04,\n",
       "         9.2114e-01,  5.7559e-01,  2.2344e-01]),\n",
       " 0.8296507702577295)"
      ]
     },
     "execution_count": 9,
     "metadata": {},
     "output_type": "execute_result"
    }
   ],
   "source": [
    "m = LinearRegression()\n",
    "m.fit(X, y ,epochs= 1000, alpha = 0.0001, error_threshold = 1/1000, validation_size=1/3 ,output_limit=10)"
   ]
  }
 ],
 "metadata": {
  "kernelspec": {
   "display_name": "Python 3 (ipykernel)",
   "language": "python",
   "name": "python3"
  },
  "language_info": {
   "codemirror_mode": {
    "name": "ipython",
    "version": 3
   },
   "file_extension": ".py",
   "mimetype": "text/x-python",
   "name": "python",
   "nbconvert_exporter": "python",
   "pygments_lexer": "ipython3",
   "version": "3.12.3"
  }
 },
 "nbformat": 4,
 "nbformat_minor": 5
}
