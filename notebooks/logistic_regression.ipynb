{
 "cells": [
  {
   "cell_type": "markdown",
   "id": "58cc05bf",
   "metadata": {},
   "source": [
    "# Logistic Regression"
   ]
  },
  {
   "cell_type": "code",
   "execution_count": null,
   "id": "e60a231a",
   "metadata": {},
   "outputs": [],
   "source": [
    "import numpy as np"
   ]
  },
  {
   "cell_type": "code",
   "execution_count": null,
   "id": "e115c2a3",
   "metadata": {},
   "outputs": [],
   "source": [
    "from sklearn.metrics import f1_score\n",
    "from matplotlib import pyplot as plt"
   ]
  },
  {
   "cell_type": "code",
   "execution_count": null,
   "id": "134a4ee0-dcb2-46a3-bfe9-6d481aff774a",
   "metadata": {},
   "outputs": [],
   "source": [
    "from scripts.logisitic_regression import LogisticRegression"
   ]
  },
  {
   "cell_type": "code",
   "execution_count": null,
   "id": "c04fbd54-78c0-4c4e-9e93-934bb0a9b31d",
   "metadata": {},
   "outputs": [],
   "source": [
    "print(LogisticRegression.fit.__doc__)"
   ]
  },
  {
   "cell_type": "markdown",
   "id": "9f2a4513",
   "metadata": {},
   "source": [
    "# Usage"
   ]
  },
  {
   "cell_type": "code",
   "execution_count": null,
   "id": "05e5f050",
   "metadata": {},
   "outputs": [],
   "source": [
    "from sklearn.datasets import make_classification"
   ]
  },
  {
   "cell_type": "code",
   "execution_count": null,
   "id": "3d79ccc9",
   "metadata": {},
   "outputs": [],
   "source": [
    "X, y = make_classification(1000, 4, random_state=0)"
   ]
  },
  {
   "cell_type": "code",
   "execution_count": null,
   "id": "af09cc3b",
   "metadata": {},
   "outputs": [],
   "source": [
    "m = LogisticRegression()\n",
    "W, b, costs = m.fit(X, y, 1000, 0.1)"
   ]
  },
  {
   "cell_type": "code",
   "execution_count": null,
   "id": "c6a9da42",
   "metadata": {},
   "outputs": [],
   "source": [
    "from sklearn.datasets import load_breast_cancer"
   ]
  },
  {
   "cell_type": "code",
   "execution_count": null,
   "id": "5f705e53",
   "metadata": {},
   "outputs": [],
   "source": [
    "X,y = load_breast_cancer(return_X_y=True)\n",
    "X = X[:200]\n",
    "y = y[:200]"
   ]
  },
  {
   "cell_type": "code",
   "execution_count": null,
   "id": "aa38cc54",
   "metadata": {},
   "outputs": [],
   "source": [
    "m = LogisticRegression()\n",
    "W, b, costs = m.fit(X, y, 1000, 0.000005)"
   ]
  },
  {
   "cell_type": "code",
   "execution_count": null,
   "id": "7503c969",
   "metadata": {},
   "outputs": [],
   "source": [
    "from sklearn.datasets import make_circles"
   ]
  },
  {
   "cell_type": "code",
   "execution_count": null,
   "id": "d4e1fa85",
   "metadata": {},
   "outputs": [],
   "source": [
    "X,y = make_circles(100,noise=0.05)\n",
    "a = X[:,0]\n",
    "b = X[:,1]\n",
    "plt.title(\"True Labels\")\n",
    "plt.scatter(a, b, c=y, marker=\"*\", s=150)\n",
    "\n",
    "X_p = np.c_[a, b, a**2, a*b, b**2] # degree 2"
   ]
  },
  {
   "cell_type": "code",
   "execution_count": null,
   "id": "4e9b578c",
   "metadata": {},
   "outputs": [],
   "source": [
    "m = LogisticRegression()\n",
    "W, b, costs = m.fit(X_p, y, 2000, 0.5)"
   ]
  },
  {
   "cell_type": "code",
   "execution_count": null,
   "id": "5516d5f7",
   "metadata": {},
   "outputs": [],
   "source": [
    "y_ = m.predict(X_p, W, b)\n",
    "plt.title(\"Predicted Labels\")\n",
    "plt.scatter(X[:,0], X[:,1], c=y, marker=\",\", s=150)\n",
    "plt.scatter(X[:,0], X[:,1], c=y_, marker=\".\", s=150)"
   ]
  },
  {
   "cell_type": "code",
   "execution_count": null,
   "id": "b478e260",
   "metadata": {},
   "outputs": [],
   "source": [
    "from sklearn.datasets import make_moons"
   ]
  },
  {
   "cell_type": "code",
   "execution_count": null,
   "id": "1b67f094",
   "metadata": {},
   "outputs": [],
   "source": [
    "X,y = make_moons(150, noise=0.1)\n",
    "a = X[:,0]\n",
    "b = X[:,1]\n",
    "plt.scatter(a, b, c=y, marker=\"*\", s=150)\n",
    "plt.title(\"True Labels\")\n",
    "\n",
    "X_p = np.c_[a, b, a**2, a*b, b**2, a**3, b**3, (a**2)*b, a*(b**2)] # degree 3"
   ]
  },
  {
   "cell_type": "code",
   "execution_count": null,
   "id": "3fda4ec4",
   "metadata": {},
   "outputs": [],
   "source": [
    "m = LogisticRegression()\n",
    "W, b, costs = m.fit(X_p, y, 1000*5, 0.5)"
   ]
  },
  {
   "cell_type": "code",
   "execution_count": null,
   "id": "0e14d1a2",
   "metadata": {},
   "outputs": [],
   "source": [
    "y_ = m.predict(X_p, W, b)\n",
    "plt.title(\"Predicted Labels\")\n",
    "plt.scatter(X[:,0], X[:,1], c=y, marker=\",\", s=50)\n",
    "plt.scatter(X[:,0], X[:,1], c=y_, marker=\".\", s=50)"
   ]
  },
  {
   "cell_type": "code",
   "execution_count": null,
   "id": "b49d8c67",
   "metadata": {},
   "outputs": [],
   "source": [
    "a = (2+1)*np.random.rand(1000) -1 # scaled to [-1, 2]\n",
    "b = (1+1)*np.random.rand(1000) -1 # scaled to [-1, 1]"
   ]
  },
  {
   "cell_type": "code",
   "execution_count": null,
   "id": "15f823b9",
   "metadata": {},
   "outputs": [],
   "source": [
    "X_p = np.c_[a, b, a**2, a*b, b**2, a**3, b**3, (a**2)*b, a*(b**2)] # degree 3"
   ]
  },
  {
   "cell_type": "code",
   "execution_count": null,
   "id": "1182af86",
   "metadata": {},
   "outputs": [],
   "source": [
    "y_ = m.predict(X_p, W, b)"
   ]
  },
  {
   "cell_type": "code",
   "execution_count": null,
   "id": "534a558a",
   "metadata": {},
   "outputs": [],
   "source": [
    "plt.title(\"Boundary Visualization\")\n",
    "plt.scatter(a, b, c=y_, marker=\"o\", s=100)"
   ]
  }
 ],
 "metadata": {
  "kernelspec": {
   "display_name": "Python 3 (ipykernel)",
   "language": "python",
   "name": "python3"
  },
  "language_info": {
   "codemirror_mode": {
    "name": "ipython",
    "version": 3
   },
   "file_extension": ".py",
   "mimetype": "text/x-python",
   "name": "python",
   "nbconvert_exporter": "python",
   "pygments_lexer": "ipython3",
   "version": "3.12.3"
  }
 },
 "nbformat": 4,
 "nbformat_minor": 5
}
