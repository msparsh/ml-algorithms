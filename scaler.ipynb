{
 "cells": [
  {
   "cell_type": "markdown",
   "id": "10b59a32",
   "metadata": {},
   "source": [
    "# Feature Scaling and Standardization"
   ]
  },
  {
   "cell_type": "code",
   "execution_count": 1,
   "id": "f8f540f0",
   "metadata": {},
   "outputs": [],
   "source": [
    "import numpy as np"
   ]
  },
  {
   "cell_type": "markdown",
   "id": "ae4a7c86",
   "metadata": {},
   "source": [
    "X is supposed to be a numpy array"
   ]
  },
  {
   "cell_type": "code",
   "execution_count": 3,
   "id": "0e6c4952",
   "metadata": {},
   "outputs": [],
   "source": [
    "class zscore():\n",
    "    \"\"\"Class implementation of zscore\"\"\"\n",
    "    \n",
    "    def __init__(self):\n",
    "        \"\"\"Zscore instance\"\"\"\n",
    "        \n",
    "        self.Mean = 0\n",
    "        self.Sd = 1\n",
    "        \n",
    "    def fit(self,X):\n",
    "        self.Mean = X.mean()\n",
    "        self.Sd = X.std()\n",
    "        print(f\"Mean: {self.Mean}, SD: {self.Sd}\")\n",
    "        \n",
    "    def transform(self,X):\n",
    "        return (X - self.Mean)/(self.Sd)\n",
    "    \n",
    "    def fit_transform(self,X):\n",
    "        self.fit(X)\n",
    "        return self.transform(X)"
   ]
  },
  {
   "cell_type": "code",
   "execution_count": 4,
   "id": "2de3647a",
   "metadata": {},
   "outputs": [],
   "source": [
    "def mean_normalization(X):\n",
    "    return (X-X.mean())/(X.max()-X.min())"
   ]
  },
  {
   "cell_type": "code",
   "execution_count": null,
   "id": "3e768f80",
   "metadata": {},
   "outputs": [],
   "source": [
    "def minmax(X):\n",
    "    return (X - X.min())/(X.max() - X.min())"
   ]
  }
 ],
 "metadata": {
  "kernelspec": {
   "display_name": "Python 3 (ipykernel)",
   "language": "python",
   "name": "python3"
  },
  "language_info": {
   "codemirror_mode": {
    "name": "ipython",
    "version": 3
   },
   "file_extension": ".py",
   "mimetype": "text/x-python",
   "name": "python",
   "nbconvert_exporter": "python",
   "pygments_lexer": "ipython3",
   "version": "3.10.12"
  }
 },
 "nbformat": 4,
 "nbformat_minor": 5
}
